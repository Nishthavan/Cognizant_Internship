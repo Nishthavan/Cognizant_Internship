{
  "nbformat": 4,
  "nbformat_minor": 0,
  "metadata": {
    "colab": {
      "name": "Truth_Table_Size_N.ipynb",
      "provenance": [],
      "authorship_tag": "ABX9TyOsbZF52HHAcK7FWREtOCdb",
      "include_colab_link": true
    },
    "kernelspec": {
      "name": "python3",
      "display_name": "Python 3"
    },
    "language_info": {
      "name": "python"
    }
  },
  "cells": [
    {
      "cell_type": "markdown",
      "metadata": {
        "id": "view-in-github",
        "colab_type": "text"
      },
      "source": [
        "<a href=\"https://colab.research.google.com/github/Nishthavan/Cognizant_Internship/blob/main/Truth_Table_Size_N.ipynb\" target=\"_parent\"><img src=\"https://colab.research.google.com/assets/colab-badge.svg\" alt=\"Open In Colab\"/></a>"
      ]
    },
    {
      "cell_type": "code",
      "execution_count": 5,
      "metadata": {
        "colab": {
          "base_uri": "https://localhost:8080/"
        },
        "id": "8o_V369bnJG2",
        "outputId": "27e9345e-8045-421b-81c5-85428b957b2f"
      },
      "outputs": [
        {
          "name": "stdout",
          "output_type": "stream",
          "text": [
            "Enter value for N: 4\n"
          ]
        }
      ],
      "source": [
        "N = int(input(\"Enter value for N: \"))"
      ]
    },
    {
      "cell_type": "code",
      "source": [
        "def append(x, y):\n",
        "     return [x + element for element in y]"
      ],
      "metadata": {
        "id": "pjZsux12qBdm"
      },
      "execution_count": 2,
      "outputs": []
    },
    {
      "cell_type": "code",
      "source": [
        "def bitstrings(N):\n",
        "    if N == 0: return []\n",
        "    if N == 1: return [\"0\", \"1\"]\n",
        "    if N == 2: return [\"00\", \"01\", \"10\", \"11\"]\n",
        "    else:\n",
        "        return (append(\"0\", bitstrings(N-1))\n",
        "                + append(\"1\", bitstrings(N-1)))"
      ],
      "metadata": {
        "id": "zf6f8KtvneH-"
      },
      "execution_count": 3,
      "outputs": []
    },
    {
      "cell_type": "code",
      "source": [
        "print(bitstrings(N))"
      ],
      "metadata": {
        "colab": {
          "base_uri": "https://localhost:8080/"
        },
        "id": "GQL0xSkJqIXu",
        "outputId": "bde1faee-b0ee-4ec3-ae52-042068bd5232"
      },
      "execution_count": 6,
      "outputs": [
        {
          "output_type": "stream",
          "name": "stdout",
          "text": [
            "['0000', '0001', '0010', '0011', '0100', '0101', '0110', '0111', '1000', '1001', '1010', '1011', '1100', '1101', '1110', '1111']\n"
          ]
        }
      ]
    }
  ]
}