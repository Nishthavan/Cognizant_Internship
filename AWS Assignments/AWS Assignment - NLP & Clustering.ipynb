{
 "cells": [
  {
   "cell_type": "markdown",
   "id": "96e07705",
   "metadata": {},
   "source": [
    "# AWS Assignment - NLP & Clustering | Nishthavan Dahiya "
   ]
  },
  {
   "cell_type": "markdown",
   "id": "8be9d850",
   "metadata": {},
   "source": [
    "## 1. Read all files in the S3 bucket "
   ]
  },
  {
   "cell_type": "code",
   "execution_count": 2,
   "id": "ce7c9e15",
   "metadata": {},
   "outputs": [],
   "source": [
    "import boto3\n",
    "S3 = boto3.resource(\"s3\")"
   ]
  },
  {
   "cell_type": "code",
   "execution_count": 3,
   "id": "058281df",
   "metadata": {},
   "outputs": [
    {
     "data": {
      "text/plain": [
       "['The electric vehicle (EV) revolution is speeding up, but it can only go so far without the necessary infrastructure and technology. As thinking shifts from fossil fuels to all-electric, visions of a brighter, more optimistic world come into view. The UK government’s pledge to ban the sale of all new non-electric cars, including gasoline, diesel and hybrid vehicles from 2035, highlights the drive to end the nation’s contribution to Climate Change by 2050. If the 2035 target is to be met, we will all see evolutions in the transport and mobility routines that keep our lives moving. From using ultra-fast wireless charging to supporting the developing world by repurposing car batteries, WMG, at the University of Warwick, is delivering advances in electrification knowledge and technologies, which will enable the leap to an electric automotive future. So, for the now and the near future, what do we need to consider?',\n",
       " 'Demand for EVs is surging in the UK and registrations of plug-in cars increased by more than 160,000 between 2013 and 2018. With the electrification industry estimated to be worth over £6bn by 2025, the next decade presents a massive opportunity.However, EVs will remain on the outskirts of mainstream until consumers are offered something that matches the model of usability, convenience and affordability that conventional vehicles offer today according to Professor David Greenwood. He is driving forward the £2m Innovate UK-funded Multi optimal Solutions for Energy Storage Systems (MoSESS) project in a consortium that is led by McLaren Automotive and includes project partner A123 Systems to reduce the size, weight and emissions of current EVs.',\n",
       " 'The vision is to improve all aspects of performance and reliability and unlock the possibility of producing a battery solution that matches the performance of conventional gasoline and diesel vehicles, meeting consumers’ expectations, helping drive the uptake of hybrid and electric transport and supporting the Government’s ‘Road to Zero’ strategy—aiming to make road transport emission-free by 2050. “The reason people don’t buy electric cars today is because they’re too expensive, there is widespread scepticism around the battery range and therefore pressing questions around the regularity and reliability of charge points. The current best-in-class technologies are able to meet the needs of a small percentage of users and the need to plan an efficient battery charging infrastructure is key,” explains Greenwood.']"
      ]
     },
     "execution_count": 3,
     "metadata": {},
     "output_type": "execute_result"
    }
   ],
   "source": [
    "# Reading All the files in the S3 BUCKET\n",
    "list_data = []\n",
    "# Getting the file data from S3 bucket.\n",
    "s3_bucket = S3.Bucket(\"awsassignmentbucket7\")\n",
    "for bucket_obj in s3_bucket.objects.all():\n",
    "    list_data.append(bucket_obj.get()['Body'].read().decode(\"utf-8\"))\n",
    "list_data"
   ]
  },
  {
   "cell_type": "markdown",
   "id": "79fa8087",
   "metadata": {},
   "source": [
    "## 2. Combine text from all files"
   ]
  },
  {
   "cell_type": "code",
   "execution_count": 4,
   "id": "079d9b6b",
   "metadata": {},
   "outputs": [
    {
     "data": {
      "text/plain": [
       "'The electric vehicle (EV) revolution is speeding up, but it can only go so far without the necessary infrastructure and technology. As thinking shifts from fossil fuels to all-electric, visions of a brighter, more optimistic world come into view. The UK government’s pledge to ban the sale of all new non-electric cars, including gasoline, diesel and hybrid vehicles from 2035, highlights the drive to end the nation’s contribution to Climate Change by 2050. If the 2035 target is to be met, we will all see evolutions in the transport and mobility routines that keep our lives moving. From using ultra-fast wireless charging to supporting the developing world by repurposing car batteries, WMG, at the University of Warwick, is delivering advances in electrification knowledge and technologies, which will enable the leap to an electric automotive future. So, for the now and the near future, what do we need to consider? Demand for EVs is surging in the UK and registrations of plug-in cars increased by more than 160,000 between 2013 and 2018. With the electrification industry estimated to be worth over £6bn by 2025, the next decade presents a massive opportunity.However, EVs will remain on the outskirts of mainstream until consumers are offered something that matches the model of usability, convenience and affordability that conventional vehicles offer today according to Professor David Greenwood. He is driving forward the £2m Innovate UK-funded Multi optimal Solutions for Energy Storage Systems (MoSESS) project in a consortium that is led by McLaren Automotive and includes project partner A123 Systems to reduce the size, weight and emissions of current EVs. The vision is to improve all aspects of performance and reliability and unlock the possibility of producing a battery solution that matches the performance of conventional gasoline and diesel vehicles, meeting consumers’ expectations, helping drive the uptake of hybrid and electric transport and supporting the Government’s ‘Road to Zero’ strategy—aiming to make road transport emission-free by 2050. “The reason people don’t buy electric cars today is because they’re too expensive, there is widespread scepticism around the battery range and therefore pressing questions around the regularity and reliability of charge points. The current best-in-class technologies are able to meet the needs of a small percentage of users and the need to plan an efficient battery charging infrastructure is key,” explains Greenwood.'"
      ]
     },
     "execution_count": 4,
     "metadata": {},
     "output_type": "execute_result"
    }
   ],
   "source": [
    "str_data = \" \".join(list_data)\n",
    "str_data"
   ]
  },
  {
   "cell_type": "markdown",
   "id": "fcc9ca1f",
   "metadata": {},
   "source": [
    "## 3. Parse text as sentences"
   ]
  },
  {
   "cell_type": "code",
   "execution_count": 5,
   "id": "cb33d0f3",
   "metadata": {},
   "outputs": [
    {
     "name": "stdout",
     "output_type": "stream",
     "text": [
      "Requirement already satisfied: spacy in /home/ec2-user/anaconda3/envs/python3/lib/python3.6/site-packages (3.3.0)\n",
      "Requirement already satisfied: packaging>=20.0 in /home/ec2-user/anaconda3/envs/python3/lib/python3.6/site-packages (from spacy) (21.3)\n",
      "Requirement already satisfied: pydantic!=1.8,!=1.8.1,<1.9.0,>=1.7.4 in /home/ec2-user/anaconda3/envs/python3/lib/python3.6/site-packages (from spacy) (1.8.2)\n",
      "Requirement already satisfied: langcodes<4.0.0,>=3.2.0 in /home/ec2-user/anaconda3/envs/python3/lib/python3.6/site-packages (from spacy) (3.3.0)\n",
      "Requirement already satisfied: jinja2 in /home/ec2-user/anaconda3/envs/python3/lib/python3.6/site-packages (from spacy) (2.11.3)\n",
      "Requirement already satisfied: wasabi<1.1.0,>=0.9.1 in /home/ec2-user/anaconda3/envs/python3/lib/python3.6/site-packages (from spacy) (0.9.1)\n",
      "Requirement already satisfied: spacy-legacy<3.1.0,>=3.0.9 in /home/ec2-user/anaconda3/envs/python3/lib/python3.6/site-packages (from spacy) (3.0.9)\n",
      "Requirement already satisfied: preshed<3.1.0,>=3.0.2 in /home/ec2-user/anaconda3/envs/python3/lib/python3.6/site-packages (from spacy) (3.0.6)\n",
      "Requirement already satisfied: requests<3.0.0,>=2.13.0 in /home/ec2-user/anaconda3/envs/python3/lib/python3.6/site-packages (from spacy) (2.26.0)\n",
      "Requirement already satisfied: catalogue<2.1.0,>=2.0.6 in /home/ec2-user/anaconda3/envs/python3/lib/python3.6/site-packages (from spacy) (2.0.7)\n",
      "Requirement already satisfied: blis<0.8.0,>=0.4.0 in /home/ec2-user/anaconda3/envs/python3/lib/python3.6/site-packages (from spacy) (0.7.7)\n",
      "Requirement already satisfied: pathy>=0.3.5 in /home/ec2-user/anaconda3/envs/python3/lib/python3.6/site-packages (from spacy) (0.6.1)\n",
      "Requirement already satisfied: srsly<3.0.0,>=2.4.3 in /home/ec2-user/anaconda3/envs/python3/lib/python3.6/site-packages (from spacy) (2.4.3)\n",
      "Requirement already satisfied: spacy-loggers<2.0.0,>=1.0.0 in /home/ec2-user/anaconda3/envs/python3/lib/python3.6/site-packages (from spacy) (1.0.2)\n",
      "Requirement already satisfied: tqdm<5.0.0,>=4.38.0 in /home/ec2-user/anaconda3/envs/python3/lib/python3.6/site-packages (from spacy) (4.62.3)\n",
      "Requirement already satisfied: typer<0.5.0,>=0.3.0 in /home/ec2-user/anaconda3/envs/python3/lib/python3.6/site-packages (from spacy) (0.4.1)\n",
      "Requirement already satisfied: numpy>=1.15.0 in /home/ec2-user/anaconda3/envs/python3/lib/python3.6/site-packages (from spacy) (1.19.5)\n",
      "Requirement already satisfied: typing-extensions<4.0.0.0,>=3.7.4 in /home/ec2-user/anaconda3/envs/python3/lib/python3.6/site-packages (from spacy) (3.10.0.2)\n",
      "Requirement already satisfied: murmurhash<1.1.0,>=0.28.0 in /home/ec2-user/anaconda3/envs/python3/lib/python3.6/site-packages (from spacy) (1.0.7)\n",
      "Requirement already satisfied: cymem<2.1.0,>=2.0.2 in /home/ec2-user/anaconda3/envs/python3/lib/python3.6/site-packages (from spacy) (2.0.6)\n",
      "Requirement already satisfied: thinc<8.1.0,>=8.0.14 in /home/ec2-user/anaconda3/envs/python3/lib/python3.6/site-packages (from spacy) (8.0.17)\n",
      "Requirement already satisfied: setuptools in /home/ec2-user/anaconda3/envs/python3/lib/python3.6/site-packages (from spacy) (49.6.0.post20210108)\n",
      "Requirement already satisfied: zipp>=0.5 in /home/ec2-user/anaconda3/envs/python3/lib/python3.6/site-packages (from catalogue<2.1.0,>=2.0.6->spacy) (3.4.0)\n",
      "Requirement already satisfied: pyparsing!=3.0.5,>=2.0.2 in /home/ec2-user/anaconda3/envs/python3/lib/python3.6/site-packages (from packaging>=20.0->spacy) (2.4.7)\n",
      "Requirement already satisfied: dataclasses<1.0,>=0.6 in /home/ec2-user/anaconda3/envs/python3/lib/python3.6/site-packages (from pathy>=0.3.5->spacy) (0.8)\n",
      "Requirement already satisfied: smart-open<6.0.0,>=5.0.0 in /home/ec2-user/anaconda3/envs/python3/lib/python3.6/site-packages (from pathy>=0.3.5->spacy) (5.2.1)\n",
      "Requirement already satisfied: idna<4,>=2.5 in /home/ec2-user/anaconda3/envs/python3/lib/python3.6/site-packages (from requests<3.0.0,>=2.13.0->spacy) (3.1)\n",
      "Requirement already satisfied: urllib3<1.27,>=1.21.1 in /home/ec2-user/anaconda3/envs/python3/lib/python3.6/site-packages (from requests<3.0.0,>=2.13.0->spacy) (1.26.8)\n",
      "Requirement already satisfied: certifi>=2017.4.17 in /home/ec2-user/anaconda3/envs/python3/lib/python3.6/site-packages (from requests<3.0.0,>=2.13.0->spacy) (2021.5.30)\n",
      "Requirement already satisfied: charset-normalizer~=2.0.0 in /home/ec2-user/anaconda3/envs/python3/lib/python3.6/site-packages (from requests<3.0.0,>=2.13.0->spacy) (2.0.9)\n",
      "Requirement already satisfied: contextvars<3,>=2.4 in /home/ec2-user/anaconda3/envs/python3/lib/python3.6/site-packages (from thinc<8.1.0,>=8.0.14->spacy) (2.4)\n",
      "Requirement already satisfied: click<9.0.0,>=7.1.1 in /home/ec2-user/anaconda3/envs/python3/lib/python3.6/site-packages (from typer<0.5.0,>=0.3.0->spacy) (7.1.2)\n",
      "Requirement already satisfied: MarkupSafe>=0.23 in /home/ec2-user/anaconda3/envs/python3/lib/python3.6/site-packages (from jinja2->spacy) (1.1.1)\n",
      "Requirement already satisfied: immutables>=0.9 in /home/ec2-user/anaconda3/envs/python3/lib/python3.6/site-packages (from contextvars<3,>=2.4->thinc<8.1.0,>=8.0.14->spacy) (0.15)\n",
      "Collecting en-core-web-sm==3.3.0\n",
      "  Downloading https://github.com/explosion/spacy-models/releases/download/en_core_web_sm-3.3.0/en_core_web_sm-3.3.0-py3-none-any.whl (12.8 MB)\n",
      "     |████████████████████████████████| 12.8 MB 6.8 MB/s            \n",
      "\u001b[?25hRequirement already satisfied: spacy<3.4.0,>=3.3.0.dev0 in /home/ec2-user/anaconda3/envs/python3/lib/python3.6/site-packages (from en-core-web-sm==3.3.0) (3.3.0)\n",
      "Requirement already satisfied: pathy>=0.3.5 in /home/ec2-user/anaconda3/envs/python3/lib/python3.6/site-packages (from spacy<3.4.0,>=3.3.0.dev0->en-core-web-sm==3.3.0) (0.6.1)\n",
      "Requirement already satisfied: packaging>=20.0 in /home/ec2-user/anaconda3/envs/python3/lib/python3.6/site-packages (from spacy<3.4.0,>=3.3.0.dev0->en-core-web-sm==3.3.0) (21.3)\n",
      "Requirement already satisfied: jinja2 in /home/ec2-user/anaconda3/envs/python3/lib/python3.6/site-packages (from spacy<3.4.0,>=3.3.0.dev0->en-core-web-sm==3.3.0) (2.11.3)\n",
      "Requirement already satisfied: tqdm<5.0.0,>=4.38.0 in /home/ec2-user/anaconda3/envs/python3/lib/python3.6/site-packages (from spacy<3.4.0,>=3.3.0.dev0->en-core-web-sm==3.3.0) (4.62.3)\n",
      "Requirement already satisfied: numpy>=1.15.0 in /home/ec2-user/anaconda3/envs/python3/lib/python3.6/site-packages (from spacy<3.4.0,>=3.3.0.dev0->en-core-web-sm==3.3.0) (1.19.5)\n",
      "Requirement already satisfied: pydantic!=1.8,!=1.8.1,<1.9.0,>=1.7.4 in /home/ec2-user/anaconda3/envs/python3/lib/python3.6/site-packages (from spacy<3.4.0,>=3.3.0.dev0->en-core-web-sm==3.3.0) (1.8.2)\n",
      "Requirement already satisfied: setuptools in /home/ec2-user/anaconda3/envs/python3/lib/python3.6/site-packages (from spacy<3.4.0,>=3.3.0.dev0->en-core-web-sm==3.3.0) (49.6.0.post20210108)\n",
      "Requirement already satisfied: requests<3.0.0,>=2.13.0 in /home/ec2-user/anaconda3/envs/python3/lib/python3.6/site-packages (from spacy<3.4.0,>=3.3.0.dev0->en-core-web-sm==3.3.0) (2.26.0)\n",
      "Requirement already satisfied: wasabi<1.1.0,>=0.9.1 in /home/ec2-user/anaconda3/envs/python3/lib/python3.6/site-packages (from spacy<3.4.0,>=3.3.0.dev0->en-core-web-sm==3.3.0) (0.9.1)\n",
      "Requirement already satisfied: thinc<8.1.0,>=8.0.14 in /home/ec2-user/anaconda3/envs/python3/lib/python3.6/site-packages (from spacy<3.4.0,>=3.3.0.dev0->en-core-web-sm==3.3.0) (8.0.17)\n",
      "Requirement already satisfied: spacy-legacy<3.1.0,>=3.0.9 in /home/ec2-user/anaconda3/envs/python3/lib/python3.6/site-packages (from spacy<3.4.0,>=3.3.0.dev0->en-core-web-sm==3.3.0) (3.0.9)\n",
      "Requirement already satisfied: cymem<2.1.0,>=2.0.2 in /home/ec2-user/anaconda3/envs/python3/lib/python3.6/site-packages (from spacy<3.4.0,>=3.3.0.dev0->en-core-web-sm==3.3.0) (2.0.6)\n",
      "Requirement already satisfied: langcodes<4.0.0,>=3.2.0 in /home/ec2-user/anaconda3/envs/python3/lib/python3.6/site-packages (from spacy<3.4.0,>=3.3.0.dev0->en-core-web-sm==3.3.0) (3.3.0)\n",
      "Requirement already satisfied: preshed<3.1.0,>=3.0.2 in /home/ec2-user/anaconda3/envs/python3/lib/python3.6/site-packages (from spacy<3.4.0,>=3.3.0.dev0->en-core-web-sm==3.3.0) (3.0.6)\n",
      "Requirement already satisfied: spacy-loggers<2.0.0,>=1.0.0 in /home/ec2-user/anaconda3/envs/python3/lib/python3.6/site-packages (from spacy<3.4.0,>=3.3.0.dev0->en-core-web-sm==3.3.0) (1.0.2)\n",
      "Requirement already satisfied: typing-extensions<4.0.0.0,>=3.7.4 in /home/ec2-user/anaconda3/envs/python3/lib/python3.6/site-packages (from spacy<3.4.0,>=3.3.0.dev0->en-core-web-sm==3.3.0) (3.10.0.2)\n",
      "Requirement already satisfied: catalogue<2.1.0,>=2.0.6 in /home/ec2-user/anaconda3/envs/python3/lib/python3.6/site-packages (from spacy<3.4.0,>=3.3.0.dev0->en-core-web-sm==3.3.0) (2.0.7)\n",
      "Requirement already satisfied: murmurhash<1.1.0,>=0.28.0 in /home/ec2-user/anaconda3/envs/python3/lib/python3.6/site-packages (from spacy<3.4.0,>=3.3.0.dev0->en-core-web-sm==3.3.0) (1.0.7)\n",
      "Requirement already satisfied: srsly<3.0.0,>=2.4.3 in /home/ec2-user/anaconda3/envs/python3/lib/python3.6/site-packages (from spacy<3.4.0,>=3.3.0.dev0->en-core-web-sm==3.3.0) (2.4.3)\n",
      "Requirement already satisfied: blis<0.8.0,>=0.4.0 in /home/ec2-user/anaconda3/envs/python3/lib/python3.6/site-packages (from spacy<3.4.0,>=3.3.0.dev0->en-core-web-sm==3.3.0) (0.7.7)\n",
      "Requirement already satisfied: typer<0.5.0,>=0.3.0 in /home/ec2-user/anaconda3/envs/python3/lib/python3.6/site-packages (from spacy<3.4.0,>=3.3.0.dev0->en-core-web-sm==3.3.0) (0.4.1)\n",
      "Requirement already satisfied: zipp>=0.5 in /home/ec2-user/anaconda3/envs/python3/lib/python3.6/site-packages (from catalogue<2.1.0,>=2.0.6->spacy<3.4.0,>=3.3.0.dev0->en-core-web-sm==3.3.0) (3.4.0)\n",
      "Requirement already satisfied: pyparsing!=3.0.5,>=2.0.2 in /home/ec2-user/anaconda3/envs/python3/lib/python3.6/site-packages (from packaging>=20.0->spacy<3.4.0,>=3.3.0.dev0->en-core-web-sm==3.3.0) (2.4.7)\n",
      "Requirement already satisfied: dataclasses<1.0,>=0.6 in /home/ec2-user/anaconda3/envs/python3/lib/python3.6/site-packages (from pathy>=0.3.5->spacy<3.4.0,>=3.3.0.dev0->en-core-web-sm==3.3.0) (0.8)\n",
      "Requirement already satisfied: smart-open<6.0.0,>=5.0.0 in /home/ec2-user/anaconda3/envs/python3/lib/python3.6/site-packages (from pathy>=0.3.5->spacy<3.4.0,>=3.3.0.dev0->en-core-web-sm==3.3.0) (5.2.1)\n",
      "Requirement already satisfied: urllib3<1.27,>=1.21.1 in /home/ec2-user/anaconda3/envs/python3/lib/python3.6/site-packages (from requests<3.0.0,>=2.13.0->spacy<3.4.0,>=3.3.0.dev0->en-core-web-sm==3.3.0) (1.26.8)\n",
      "Requirement already satisfied: charset-normalizer~=2.0.0 in /home/ec2-user/anaconda3/envs/python3/lib/python3.6/site-packages (from requests<3.0.0,>=2.13.0->spacy<3.4.0,>=3.3.0.dev0->en-core-web-sm==3.3.0) (2.0.9)\n",
      "Requirement already satisfied: idna<4,>=2.5 in /home/ec2-user/anaconda3/envs/python3/lib/python3.6/site-packages (from requests<3.0.0,>=2.13.0->spacy<3.4.0,>=3.3.0.dev0->en-core-web-sm==3.3.0) (3.1)\n",
      "Requirement already satisfied: certifi>=2017.4.17 in /home/ec2-user/anaconda3/envs/python3/lib/python3.6/site-packages (from requests<3.0.0,>=2.13.0->spacy<3.4.0,>=3.3.0.dev0->en-core-web-sm==3.3.0) (2021.5.30)\n",
      "Requirement already satisfied: contextvars<3,>=2.4 in /home/ec2-user/anaconda3/envs/python3/lib/python3.6/site-packages (from thinc<8.1.0,>=8.0.14->spacy<3.4.0,>=3.3.0.dev0->en-core-web-sm==3.3.0) (2.4)\n",
      "Requirement already satisfied: click<9.0.0,>=7.1.1 in /home/ec2-user/anaconda3/envs/python3/lib/python3.6/site-packages (from typer<0.5.0,>=0.3.0->spacy<3.4.0,>=3.3.0.dev0->en-core-web-sm==3.3.0) (7.1.2)\n",
      "Requirement already satisfied: MarkupSafe>=0.23 in /home/ec2-user/anaconda3/envs/python3/lib/python3.6/site-packages (from jinja2->spacy<3.4.0,>=3.3.0.dev0->en-core-web-sm==3.3.0) (1.1.1)\n",
      "Requirement already satisfied: immutables>=0.9 in /home/ec2-user/anaconda3/envs/python3/lib/python3.6/site-packages (from contextvars<3,>=2.4->thinc<8.1.0,>=8.0.14->spacy<3.4.0,>=3.3.0.dev0->en-core-web-sm==3.3.0) (0.15)\n",
      "\u001b[38;5;2m✔ Download and installation successful\u001b[0m\n",
      "You can now load the package via spacy.load('en_core_web_sm')\n"
     ]
    }
   ],
   "source": [
    "!pip install spacy\n",
    "!python -m spacy download en_core_web_sm"
   ]
  },
  {
   "cell_type": "code",
   "execution_count": 6,
   "id": "726548d1",
   "metadata": {},
   "outputs": [],
   "source": [
    "import pandas as pd\n",
    "import numpy as np\n",
    "import spacy\n",
    "import string"
   ]
  },
  {
   "cell_type": "code",
   "execution_count": 7,
   "id": "368efa56",
   "metadata": {},
   "outputs": [
    {
     "data": {
      "text/plain": [
       "['The electric vehicle (EV) revolution is speeding up, but it can only go so far without the necessary infrastructure and technology.',\n",
       " 'As thinking shifts from fossil fuels to all-electric, visions of a brighter, more optimistic world come into view.',\n",
       " 'The UK government’s pledge to ban the sale of all new non-electric cars, including gasoline, diesel and hybrid vehicles from 2035, highlights the drive to end the nation’s contribution to Climate Change by 2050.',\n",
       " 'If the 2035 target is to be met, we will all see evolutions in the transport and mobility routines that keep our lives moving.',\n",
       " 'From using ultra-fast wireless charging to supporting the developing world by repurposing car batteries, WMG, at the University of Warwick, is delivering advances in electrification knowledge and technologies, which will enable the leap to an electric automotive future.',\n",
       " 'So, for the now and the near future, what do we need to consider?',\n",
       " 'Demand for EVs is surging in the UK and registrations of plug-in cars increased by more than 160,000 between 2013 and 2018.',\n",
       " 'With the electrification industry estimated to be worth over £6bn by 2025, the next decade presents a massive opportunity.',\n",
       " 'However, EVs will remain on the outskirts of mainstream until consumers are offered something that matches the model of usability, convenience and affordability that conventional vehicles offer today according to Professor David Greenwood.',\n",
       " 'He is driving forward the £2m Innovate UK-funded Multi optimal Solutions for Energy Storage Systems (MoSESS) project in a consortium that is led by McLaren Automotive and includes project partner A123 Systems to reduce the size, weight and emissions of current EVs.',\n",
       " 'The vision is to improve all aspects of performance and reliability and unlock the possibility of producing a battery solution that matches the performance of conventional gasoline and diesel vehicles, meeting consumers’ expectations, helping drive the uptake of hybrid and electric transport and supporting the Government’s ‘Road to Zero’ strategy—aiming to make road transport emission-free by 2050.',\n",
       " '“The reason people don’t buy electric cars today is because they’re too expensive, there is widespread scepticism around the battery range and therefore pressing questions around the regularity and reliability of charge points.',\n",
       " 'The current best-in-class technologies are able to meet the needs of a small percentage of users and the need to plan an efficient battery charging infrastructure is key,” explains Greenwood.']"
      ]
     },
     "execution_count": 7,
     "metadata": {},
     "output_type": "execute_result"
    }
   ],
   "source": [
    "NLP = spacy.load('en_core_web_sm')\n",
    "data = NLP(str_data)\n",
    "#Sentences ------\n",
    "Sentences = []\n",
    "for sentence in data.sents:\n",
    "    Sentences.append(sentence.text)\n",
    "Sentences"
   ]
  },
  {
   "cell_type": "markdown",
   "id": "18343686",
   "metadata": {},
   "source": [
    "## 4. Parse sentence as words and Remove stop words"
   ]
  },
  {
   "cell_type": "code",
   "execution_count": 8,
   "id": "31738498",
   "metadata": {},
   "outputs": [
    {
     "name": "stderr",
     "output_type": "stream",
     "text": [
      "[nltk_data] Downloading package punkt to /home/ec2-user/nltk_data...\n",
      "[nltk_data]   Package punkt is already up-to-date!\n",
      "[nltk_data] Downloading package stopwords to\n",
      "[nltk_data]     /home/ec2-user/nltk_data...\n",
      "[nltk_data]   Package stopwords is already up-to-date!\n"
     ]
    },
    {
     "name": "stdout",
     "output_type": "stream",
     "text": [
      "['The', 'electric', 'vehicle', '(', 'EV', ')', 'revolution', 'speeding', ',', 'far', 'necessary', 'infrastructure', 'technology', '.', 'As', 'thinking', 'shifts', 'fossil', 'fuels', 'all-electric', ',', 'visions', 'brighter', ',', 'optimistic', 'world', 'view', '.', 'The', 'UK', 'government', '’', 'pledge', 'ban', 'new', 'non-electric', 'cars', ',', 'including', 'gasoline', ',', 'diesel', 'hybrid', 'vehicles', '2035', ',', 'highlights', 'drive', 'nation', '’', 'contribution', 'Climate', 'Change', '2050', '.', 'If', '2035', 'target', ',', 'evolutions', 'transport', 'mobility', 'routines', 'lives', 'moving', '.', 'From', 'ultra-fast', 'wireless', 'charging', 'supporting', 'developing', 'world', 'repurposing', 'car', 'batteries', ',', 'WMG', ',', 'University', 'Warwick', ',', 'delivering', 'advances', 'electrification', 'knowledge', 'technologies', ',', 'enable', 'leap', 'electric', 'automotive', 'future', '.', 'So', ',', 'near', 'future', ',', 'need', 'consider', '?', 'Demand', 'EVs', 'surging', 'UK', 'registrations', 'plug-in', 'cars', 'increased', '160,000', '2013', '2018', '.', 'With', 'electrification', 'industry', 'estimated', 'worth', '£6bn', '2025', ',', 'decade', 'presents', 'massive', 'opportunity', '.', 'However', ',', 'EVs', 'remain', 'outskirts', 'mainstream', 'consumers', 'offered', 'matches', 'model', 'usability', ',', 'convenience', 'affordability', 'conventional', 'vehicles', 'offer', 'today', 'according', 'Professor', 'David', 'Greenwood', '.', 'He', 'driving', 'forward', '£2m', 'Innovate', 'UK-funded', 'Multi', 'optimal', 'Solutions', 'Energy', 'Storage', 'Systems', '(', 'MoSESS', ')', 'project', 'consortium', 'led', 'McLaren', 'Automotive', 'includes', 'project', 'partner', 'A123', 'Systems', 'reduce', 'size', ',', 'weight', 'emissions', 'current', 'EVs', '.', 'The', 'vision', 'improve', 'aspects', 'performance', 'reliability', 'unlock', 'possibility', 'producing', 'battery', 'solution', 'matches', 'performance', 'conventional', 'gasoline', 'diesel', 'vehicles', ',', 'meeting', 'consumers', '’', 'expectations', ',', 'helping', 'drive', 'uptake', 'hybrid', 'electric', 'transport', 'supporting', 'Government', '’', '‘', 'Road', 'Zero', '’', 'strategy—aiming', 'road', 'transport', 'emission-free', '2050', '.', '“', 'The', 'reason', 'people', '’', 'buy', 'electric', 'cars', 'today', '’', 'expensive', ',', 'widespread', 'scepticism', 'battery', 'range', 'pressing', 'questions', 'regularity', 'reliability', 'charge', 'points', '.', 'The', 'current', 'best-in-class', 'technologies', 'able', 'meet', 'needs', 'small', 'percentage', 'users', 'need', 'plan', 'efficient', 'battery', 'charging', 'infrastructure', 'key', ',', '”', 'explains', 'Greenwood', '.']\n"
     ]
    }
   ],
   "source": [
    "import nltk\n",
    "nltk.download(\"punkt\")\n",
    "nltk.download(\"stopwords\")\n",
    "from nltk.corpus import stopwords\n",
    "from nltk.tokenize import word_tokenize\n",
    "\n",
    "word_tokens = []\n",
    "for sentence in Sentences:\n",
    "    tokens_list = word_tokenize(sentence) \n",
    "    for word in tokens_list:\n",
    "        if not word in stopwords.words() and not word in NLP.Defaults.stop_words:\n",
    "            word_tokens.append(word)\n",
    "len(word_tokens)\n",
    "print(word_tokens)"
   ]
  },
  {
   "cell_type": "code",
   "execution_count": 9,
   "id": "396ece21",
   "metadata": {},
   "outputs": [
    {
     "name": "stdout",
     "output_type": "stream",
     "text": [
      "['The', 'electric', 'vehicle', 'EV', 'revolution', 'speeding', 'far', 'necessary', 'infrastructure', 'technology', 'As', 'thinking', 'shifts', 'fossil', 'fuels', 'allelectric', 'visions', 'brighter', 'optimistic', 'world', 'view', 'The', 'UK', 'government', 'pledge', 'ban', 'new', 'nonelectric', 'cars', 'including', 'gasoline', 'diesel', 'hybrid', 'vehicles', '2035', 'highlights', 'drive', 'nation', 'contribution', 'Climate', 'Change', '2050', 'If', '2035', 'target', 'evolutions', 'transport', 'mobility', 'routines', 'lives', 'moving', 'From', 'ultrafast', 'wireless', 'charging', 'supporting', 'developing', 'world', 'repurposing', 'car', 'batteries', 'WMG', 'University', 'Warwick', 'delivering', 'advances', 'electrification', 'knowledge', 'technologies', 'enable', 'leap', 'electric', 'automotive', 'future', 'So', 'near', 'future', 'need', 'consider', 'Demand', 'EVs', 'surging', 'UK', 'registrations', 'plugin', 'cars', 'increased', '160000', '2013', '2018', 'With', 'electrification', 'industry', 'estimated', 'worth', '6bn', '2025', 'decade', 'presents', 'massive', 'opportunity', 'However', 'EVs', 'remain', 'outskirts', 'mainstream', 'consumers', 'offered', 'matches', 'model', 'usability', 'convenience', 'affordability', 'conventional', 'vehicles', 'offer', 'today', 'according', 'Professor', 'David', 'Greenwood', 'He', 'driving', 'forward', '2m', 'Innovate', 'UKfunded', 'Multi', 'optimal', 'Solutions', 'Energy', 'Storage', 'Systems', 'MoSESS', 'project', 'consortium', 'led', 'McLaren', 'Automotive', 'includes', 'project', 'partner', 'A123', 'Systems', 'reduce', 'size', 'weight', 'emissions', 'current', 'EVs', 'The', 'vision', 'improve', 'aspects', 'performance', 'reliability', 'unlock', 'possibility', 'producing', 'battery', 'solution', 'matches', 'performance', 'conventional', 'gasoline', 'diesel', 'vehicles', 'meeting', 'consumers', 'expectations', 'helping', 'drive', 'uptake', 'hybrid', 'electric', 'transport', 'supporting', 'Government', 'Road', 'Zero', 'strategyaiming', 'road', 'transport', 'emissionfree', '2050', 'The', 'reason', 'people', 'buy', 'electric', 'cars', 'today', 'expensive', 'widespread', 'scepticism', 'battery', 'range', 'pressing', 'questions', 'regularity', 'reliability', 'charge', 'points', 'The', 'current', 'bestinclass', 'technologies', 'able', 'meet', 'needs', 'small', 'percentage', 'users', 'need', 'plan', 'efficient', 'battery', 'charging', 'infrastructure', 'key', 'explains', 'Greenwood']\n"
     ]
    }
   ],
   "source": [
    "custom_punc = [',', '.', '\"', ':', ')', '(', '!', '?', '|', ';', \"'\", '$', '&', '/', '[', ']', '>', '%', '=', '#', '*', '+', '\\\\', '•',  '~', '@', '£',\n",
    "    '·', '_', '{', '}', '©', '^', '®', '`',  '<', '→', '°', '€', '™', '›','♥', '←', '×', '§', '″', '′', 'Â', '█', '½', 'à', '…', '“', '★', '”',\n",
    "    '–', '●', 'â', '►', '−', '¢', '²', '¬', '░', '¶', '↑', '±', '¿', '▾','═', '¦', '║', '―', '¥', '▓', '—', '‹', '─', '▒', '：', '¼', '⊕', '▼',\n",
    "    '▪', '†', '■', '’', '▀', '¨', '▄', '♫', '☆', 'é', '¯', '♦', '¤', '▲','è', '¸', '¾', 'Ã', '⋅', '‘', '∞', '∙', '）', '↓', '、', '│', '（', '»',\n",
    "    '，', '♪', '╩', '╚', '³', '・', '╦', '╣', '╔', '╗', '▬', '❤', 'ï', 'Ø','¹', '≤', '‡', '√', '«', '»', '´', 'º', '¾', '¡', '§', '£', '₤']\n",
    "word_tokens = [\"\".join(c for c in token if c not in string.punctuation and c not in custom_punc) for token in word_tokens]\n",
    "word_tokens = [token for token in word_tokens if token] # Remove empty \n",
    "print(word_tokens)"
   ]
  },
  {
   "cell_type": "markdown",
   "id": "5e0fc5b8",
   "metadata": {},
   "source": [
    "## 5. Stemming of words"
   ]
  },
  {
   "cell_type": "code",
   "execution_count": 10,
   "id": "780d3f3e",
   "metadata": {},
   "outputs": [
    {
     "name": "stdout",
     "output_type": "stream",
     "text": [
      "['the', 'electr', 'vehicl', 'EV', 'revolut', 'speed', 'far', 'necessari', 'infrastructur', 'technolog', 'As', 'think', 'shift', 'fossil', 'fuel', 'allelectr', 'vision', 'brighter', 'optimist', 'world', 'view', 'the', 'UK', 'govern', 'pledg', 'ban', 'new', 'nonelectr', 'car', 'includ', 'gasolin', 'diesel', 'hybrid', 'vehicl', '2035', 'highlight', 'drive', 'nation', 'contribut', 'climat', 'chang', '2050', 'If', '2035', 'target', 'evolut', 'transport', 'mobil', 'routin', 'live', 'move', 'from', 'ultrafast', 'wireless', 'charg', 'support', 'develop', 'world', 'repurpos', 'car', 'batteri', 'wmg', 'univers', 'warwick', 'deliv', 'advanc', 'electrif', 'knowledg', 'technolog', 'enabl', 'leap', 'electr', 'automot', 'futur', 'So', 'near', 'futur', 'need', 'consid', 'demand', 'ev', 'surg', 'UK', 'registr', 'plugin', 'car', 'increas', '160000', '2013', '2018', 'with', 'electrif', 'industri', 'estim', 'worth', '6bn', '2025', 'decad', 'present', 'massiv', 'opportun', 'howev', 'ev', 'remain', 'outskirt', 'mainstream', 'consum', 'offer', 'match', 'model', 'usabl', 'conveni', 'afford', 'convent', 'vehicl', 'offer', 'today', 'accord', 'professor', 'david', 'greenwood', 'He', 'drive', 'forward', '2m', 'innov', 'ukfund', 'multi', 'optim', 'solut', 'energi', 'storag', 'system', 'mosess', 'project', 'consortium', 'led', 'mclaren', 'automot', 'includ', 'project', 'partner', 'a123', 'system', 'reduc', 'size', 'weight', 'emiss', 'current', 'ev', 'the', 'vision', 'improv', 'aspect', 'perform', 'reliabl', 'unlock', 'possibl', 'produc', 'batteri', 'solut', 'match', 'perform', 'convent', 'gasolin', 'diesel', 'vehicl', 'meet', 'consum', 'expect', 'help', 'drive', 'uptak', 'hybrid', 'electr', 'transport', 'support', 'govern', 'road', 'zero', 'strategyaim', 'road', 'transport', 'emissionfre', '2050', 'the', 'reason', 'peopl', 'buy', 'electr', 'car', 'today', 'expens', 'widespread', 'sceptic', 'batteri', 'rang', 'press', 'question', 'regular', 'reliabl', 'charg', 'point', 'the', 'current', 'bestinclass', 'technolog', 'abl', 'meet', 'need', 'small', 'percentag', 'user', 'need', 'plan', 'effici', 'batteri', 'charg', 'infrastructur', 'key', 'explain', 'greenwood']\n"
     ]
    }
   ],
   "source": [
    "from nltk.stem.porter import *\n",
    "stemmer = PorterStemmer()\n",
    "final_tokens = []\n",
    "for token in word_tokens:\n",
    "    final_tokens.append(stemmer.stem(token))\n",
    "print(final_tokens)"
   ]
  },
  {
   "cell_type": "code",
   "execution_count": 23,
   "id": "5bb54b6c",
   "metadata": {},
   "outputs": [
    {
     "data": {
      "text/plain": [
       "1498"
      ]
     },
     "execution_count": 23,
     "metadata": {},
     "output_type": "execute_result"
    }
   ],
   "source": [
    "Results = \" \".join(final_tokens)\n",
    "f = open(\"Results.txt\", \"a\")\n",
    "f.write(Results)"
   ]
  },
  {
   "cell_type": "markdown",
   "id": "df7118b1",
   "metadata": {},
   "source": [
    "## 6.  Store results in S3 bucket"
   ]
  },
  {
   "cell_type": "code",
   "execution_count": 25,
   "id": "7f672973",
   "metadata": {},
   "outputs": [],
   "source": [
    "# Uploading File under a folder named results and name of file is Results.txt\n",
    "S3 = boto3.resource(\"s3\")\n",
    "s3_bucket = S3.Bucket(\"awsassignmentbucket7\")\n",
    "s3_bucket.upload_file(\"Results.txt\", \"results/Results.txt\")"
   ]
  },
  {
   "cell_type": "markdown",
   "id": "728994b2",
   "metadata": {},
   "source": [
    "## 7.  Read same stored results from S3 Bucket"
   ]
  },
  {
   "cell_type": "code",
   "execution_count": 26,
   "id": "f3885e7c",
   "metadata": {},
   "outputs": [
    {
     "data": {
      "text/plain": [
       "'the electr vehicl EV revolut speed far necessari infrastructur technolog As think shift fossil fuel allelectr vision brighter optimist world view the UK govern pledg ban new nonelectr car includ gasolin diesel hybrid vehicl 2035 highlight drive nation contribut climat chang 2050 If 2035 target evolut transport mobil routin live move from ultrafast wireless charg support develop world repurpos car batteri wmg univers warwick deliv advanc electrif knowledg technolog enabl leap electr automot futur So near futur need consid demand ev surg UK registr plugin car increas 160000 2013 2018 with electrif industri estim worth 6bn 2025 decad present massiv opportun howev ev remain outskirt mainstream consum offer match model usabl conveni afford convent vehicl offer today accord professor david greenwood He drive forward 2m innov ukfund multi optim solut energi storag system mosess project consortium led mclaren automot includ project partner a123 system reduc size weight emiss current ev the vision improv aspect perform reliabl unlock possibl produc batteri solut match perform convent gasolin diesel vehicl meet consum expect help drive uptak hybrid electr transport support govern road zero strategyaim road transport emissionfre 2050 the reason peopl buy electr car today expens widespread sceptic batteri rang press question regular reliabl charg point the current bestinclass technolog abl meet need small percentag user need plan effici batteri charg infrastructur key explain greenwood'"
      ]
     },
     "execution_count": 26,
     "metadata": {},
     "output_type": "execute_result"
    }
   ],
   "source": [
    "# Getting the file we uploaded previously\n",
    "obj = S3.Object(bucket_name = \"awsassignmentbucket7\",key =\"results/Results.txt\")\n",
    "final_data = obj.get()['Body'].read().decode(\"utf-8\")\n",
    "final_data"
   ]
  },
  {
   "cell_type": "code",
   "execution_count": 27,
   "id": "c82e8c9e",
   "metadata": {},
   "outputs": [
    {
     "name": "stdout",
     "output_type": "stream",
     "text": [
      "['the', 'electr', 'vehicl', 'EV', 'revolut', 'speed', 'far', 'necessari', 'infrastructur', 'technolog', 'As', 'think', 'shift', 'fossil', 'fuel', 'allelectr', 'vision', 'brighter', 'optimist', 'world', 'view', 'the', 'UK', 'govern', 'pledg', 'ban', 'new', 'nonelectr', 'car', 'includ', 'gasolin', 'diesel', 'hybrid', 'vehicl', '2035', 'highlight', 'drive', 'nation', 'contribut', 'climat', 'chang', '2050', 'If', '2035', 'target', 'evolut', 'transport', 'mobil', 'routin', 'live', 'move', 'from', 'ultrafast', 'wireless', 'charg', 'support', 'develop', 'world', 'repurpos', 'car', 'batteri', 'wmg', 'univers', 'warwick', 'deliv', 'advanc', 'electrif', 'knowledg', 'technolog', 'enabl', 'leap', 'electr', 'automot', 'futur', 'So', 'near', 'futur', 'need', 'consid', 'demand', 'ev', 'surg', 'UK', 'registr', 'plugin', 'car', 'increas', '160000', '2013', '2018', 'with', 'electrif', 'industri', 'estim', 'worth', '6bn', '2025', 'decad', 'present', 'massiv', 'opportun', 'howev', 'ev', 'remain', 'outskirt', 'mainstream', 'consum', 'offer', 'match', 'model', 'usabl', 'conveni', 'afford', 'convent', 'vehicl', 'offer', 'today', 'accord', 'professor', 'david', 'greenwood', 'He', 'drive', 'forward', '2m', 'innov', 'ukfund', 'multi', 'optim', 'solut', 'energi', 'storag', 'system', 'mosess', 'project', 'consortium', 'led', 'mclaren', 'automot', 'includ', 'project', 'partner', 'a123', 'system', 'reduc', 'size', 'weight', 'emiss', 'current', 'ev', 'the', 'vision', 'improv', 'aspect', 'perform', 'reliabl', 'unlock', 'possibl', 'produc', 'batteri', 'solut', 'match', 'perform', 'convent', 'gasolin', 'diesel', 'vehicl', 'meet', 'consum', 'expect', 'help', 'drive', 'uptak', 'hybrid', 'electr', 'transport', 'support', 'govern', 'road', 'zero', 'strategyaim', 'road', 'transport', 'emissionfre', '2050', 'the', 'reason', 'peopl', 'buy', 'electr', 'car', 'today', 'expens', 'widespread', 'sceptic', 'batteri', 'rang', 'press', 'question', 'regular', 'reliabl', 'charg', 'point', 'the', 'current', 'bestinclass', 'technolog', 'abl', 'meet', 'need', 'small', 'percentag', 'user', 'need', 'plan', 'effici', 'batteri', 'charg', 'infrastructur', 'key', 'explain', 'greenwood']\n"
     ]
    }
   ],
   "source": [
    "# We can get back tokens by just splitting it with \" \" Because previously thats how we saved it.\n",
    "TOKENS = final_data.split(\" \")\n",
    "print(TOKENS)"
   ]
  },
  {
   "cell_type": "markdown",
   "id": "b17f780f",
   "metadata": {},
   "source": [
    "## 8. Label encoding on all words"
   ]
  },
  {
   "cell_type": "code",
   "execution_count": 28,
   "id": "a25a0291",
   "metadata": {},
   "outputs": [
    {
     "name": "stdout",
     "output_type": "stream",
     "text": [
      "[142  46 153   9 126 134  58  94  75 141   8 143 130  60  62  19 155  25\n",
      " 101 162 154 142  13  65 108  22  96  97  27  72  64  43  70 153   4  68\n",
      "  44  92  34  30  28   5  11   4 140  54 145  87 128  81  90  61 147 159\n",
      "  29 137  42 162 125  27  23 161 148 156  40  17  47  78 141  50  79  46\n",
      "  21  63  12  93  63  95  31  41  53 138  13 121 109  27  73   0   1   2\n",
      " 160  47  74  52 163   7   3  39 112  83  99  69  53 124 102  82  33  98\n",
      "  84  88 151  35  18  36 153  98 144  16 115  38  66  10  44  59   6  76\n",
      " 146  91 100 133  51 135 139  89 116  32  80  85  21  72 116 103  14 139\n",
      " 120 131 157  48  37  53 142 155  71  20 106 123 149 111 114  23 133  84\n",
      " 106  36  64  43 153  86  33  55  67  44 150  70  46 145 137  65 127 164\n",
      " 136 127 145  49   5 142 119 104  26  46  27 144  56 158 129  23 118 113\n",
      " 117 122 123  29 110 142  37  24 141  15  86  95 132 105 152  95 107  45\n",
      "  23  29  75  77  57  66]\n"
     ]
    }
   ],
   "source": [
    "from sklearn.preprocessing import LabelEncoder\n",
    "LE = LabelEncoder()\n",
    "encoded_words = LE.fit_transform(TOKENS)\n",
    "print(encoded_words)"
   ]
  },
  {
   "cell_type": "markdown",
   "id": "c4db6fc5",
   "metadata": {},
   "source": [
    "## 9. K-Means clustering "
   ]
  },
  {
   "cell_type": "code",
   "execution_count": 29,
   "id": "607a69a7",
   "metadata": {},
   "outputs": [
    {
     "name": "stdout",
     "output_type": "stream",
     "text": [
      "[4 0 4 5 1 1 3 2 3 4 5 4 1 3 3 5 4 5 2 4 4 4 5 3 2 5 2 2 0 3 3 0 3 4 5 3 0\n",
      " 2 0 0 0 5 5 5 4 3 4 2 1 2 2 3 4 4 0 4 0 4 1 0 5 4 4 4 0 5 0 3 4 0 3 0 5 3\n",
      " 5 2 3 2 0 0 3 4 5 1 1 0 3 5 5 5 4 0 3 3 4 5 5 0 1 2 2 3 3 1 2 2 0 2 2 2 4\n",
      " 0 5 0 4 2 4 5 1 0 3 5 0 3 5 3 4 2 2 1 0 1 4 2 1 0 2 2 5 3 1 2 5 4 1 1 4 0\n",
      " 0 3 4 4 3 5 2 1 4 1 1 5 1 2 2 0 3 0 4 2 0 3 3 0 4 3 0 4 4 3 1 4 4 1 4 0 5\n",
      " 4 1 2 0 0 0 4 3 4 1 5 1 1 1 1 1 0 1 4 0 5 4 5 2 2 1 2 4 2 2 0 5 0 3 3 3 3]\n"
     ]
    }
   ],
   "source": [
    "X = encoded_words.reshape(-1,1)\n",
    "from sklearn.cluster import KMeans\n",
    "model = KMeans(n_clusters=6, random_state = 710).fit(X)\n",
    "out = model.predict(X)\n",
    "print(out)"
   ]
  },
  {
   "cell_type": "code",
   "execution_count": 30,
   "id": "8525e7fd",
   "metadata": {},
   "outputs": [
    {
     "name": "stdout",
     "output_type": "stream",
     "text": [
      "[[ 38.09756098]\n",
      " [122.35483871]\n",
      " [ 94.        ]\n",
      " [ 65.27027027]\n",
      " [148.57777778]\n",
      " [ 13.24242424]]\n"
     ]
    }
   ],
   "source": [
    "print(model.cluster_centers_)"
   ]
  }
 ],
 "metadata": {
  "kernelspec": {
   "display_name": "conda_python3",
   "language": "python",
   "name": "conda_python3"
  },
  "language_info": {
   "codemirror_mode": {
    "name": "ipython",
    "version": 3
   },
   "file_extension": ".py",
   "mimetype": "text/x-python",
   "name": "python",
   "nbconvert_exporter": "python",
   "pygments_lexer": "ipython3",
   "version": "3.6.13"
  }
 },
 "nbformat": 4,
 "nbformat_minor": 5
}
