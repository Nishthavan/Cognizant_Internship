{
  "cells": [
    {
      "cell_type": "markdown",
      "id": "e61522b1",
      "metadata": {
        "id": "e61522b1"
      },
      "source": [
        "# AWS Assignment 2 | Nishthavan Dahiya"
      ]
    },
    {
      "cell_type": "markdown",
      "id": "ff6f9339",
      "metadata": {
        "id": "ff6f9339"
      },
      "source": [
        "## Read Data from S3 Bucket"
      ]
    },
    {
      "cell_type": "code",
      "execution_count": null,
      "id": "98563a16",
      "metadata": {
        "id": "98563a16"
      },
      "outputs": [],
      "source": [
        "import boto3\n",
        "import pandas as pd\n",
        "import numpy as np  \n",
        "import os\n",
        "from time import gmtime, strftime\n",
        "\n",
        "S3 = boto3.resource(\"s3\")\n",
        "\n",
        "# Get Data from the bucket\n",
        "all_data = []\n",
        "bucket = \"awsbucketassignment2\"\n",
        "for i in range (1,4):\n",
        "    all_data.append(S3.Object(bucket, \"titanic{}.csv\".format(i)))\n",
        "\n",
        "data1 = pd.read_csv(all_data[0].get()[\"Body\"])\n",
        "data2 = pd.read_csv(all_data[1].get()[\"Body\"])\n",
        "data3 = pd.read_csv(all_data[2].get()[\"Body\"])"
      ]
    },
    {
      "cell_type": "code",
      "execution_count": null,
      "id": "d71de272",
      "metadata": {
        "id": "d71de272",
        "outputId": "32d93917-8c49-4fbc-d3e0-aad0b62dc541"
      },
      "outputs": [
        {
          "data": {
            "text/html": [
              "<div>\n",
              "<style scoped>\n",
              "    .dataframe tbody tr th:only-of-type {\n",
              "        vertical-align: middle;\n",
              "    }\n",
              "\n",
              "    .dataframe tbody tr th {\n",
              "        vertical-align: top;\n",
              "    }\n",
              "\n",
              "    .dataframe thead th {\n",
              "        text-align: right;\n",
              "    }\n",
              "</style>\n",
              "<table border=\"1\" class=\"dataframe\">\n",
              "  <thead>\n",
              "    <tr style=\"text-align: right;\">\n",
              "      <th></th>\n",
              "      <th>PassengerId</th>\n",
              "      <th>Survived</th>\n",
              "      <th>Pclass</th>\n",
              "      <th>Name</th>\n",
              "      <th>Sex</th>\n",
              "      <th>Age</th>\n",
              "      <th>SibSp</th>\n",
              "      <th>Parch</th>\n",
              "      <th>Ticket</th>\n",
              "      <th>Fare</th>\n",
              "      <th>Cabin</th>\n",
              "      <th>Embarked</th>\n",
              "    </tr>\n",
              "  </thead>\n",
              "  <tbody>\n",
              "    <tr>\n",
              "      <th>0</th>\n",
              "      <td>201</td>\n",
              "      <td>0</td>\n",
              "      <td>3</td>\n",
              "      <td>Vande Walle, Mr. Nestor Cyriel</td>\n",
              "      <td>male</td>\n",
              "      <td>28.0</td>\n",
              "      <td>0</td>\n",
              "      <td>0</td>\n",
              "      <td>345770</td>\n",
              "      <td>9.5000</td>\n",
              "      <td>NaN</td>\n",
              "      <td>S</td>\n",
              "    </tr>\n",
              "    <tr>\n",
              "      <th>1</th>\n",
              "      <td>202</td>\n",
              "      <td>0</td>\n",
              "      <td>3</td>\n",
              "      <td>Sage, Mr. Frederick</td>\n",
              "      <td>male</td>\n",
              "      <td>NaN</td>\n",
              "      <td>8</td>\n",
              "      <td>2</td>\n",
              "      <td>CA. 2343</td>\n",
              "      <td>69.5500</td>\n",
              "      <td>NaN</td>\n",
              "      <td>S</td>\n",
              "    </tr>\n",
              "    <tr>\n",
              "      <th>2</th>\n",
              "      <td>203</td>\n",
              "      <td>0</td>\n",
              "      <td>3</td>\n",
              "      <td>Johanson, Mr. Jakob Alfred</td>\n",
              "      <td>male</td>\n",
              "      <td>34.0</td>\n",
              "      <td>0</td>\n",
              "      <td>0</td>\n",
              "      <td>3101264</td>\n",
              "      <td>6.4958</td>\n",
              "      <td>NaN</td>\n",
              "      <td>S</td>\n",
              "    </tr>\n",
              "    <tr>\n",
              "      <th>3</th>\n",
              "      <td>204</td>\n",
              "      <td>0</td>\n",
              "      <td>3</td>\n",
              "      <td>Youseff, Mr. Gerious</td>\n",
              "      <td>male</td>\n",
              "      <td>45.5</td>\n",
              "      <td>0</td>\n",
              "      <td>0</td>\n",
              "      <td>2628</td>\n",
              "      <td>7.2250</td>\n",
              "      <td>NaN</td>\n",
              "      <td>C</td>\n",
              "    </tr>\n",
              "    <tr>\n",
              "      <th>4</th>\n",
              "      <td>205</td>\n",
              "      <td>1</td>\n",
              "      <td>3</td>\n",
              "      <td>Cohen, Mr. Gurshon \"Gus\"</td>\n",
              "      <td>male</td>\n",
              "      <td>18.0</td>\n",
              "      <td>0</td>\n",
              "      <td>0</td>\n",
              "      <td>A/5 3540</td>\n",
              "      <td>8.0500</td>\n",
              "      <td>NaN</td>\n",
              "      <td>S</td>\n",
              "    </tr>\n",
              "  </tbody>\n",
              "</table>\n",
              "</div>"
            ],
            "text/plain": [
              "   PassengerId  Survived  Pclass                            Name   Sex   Age  \\\n",
              "0          201         0       3  Vande Walle, Mr. Nestor Cyriel  male  28.0   \n",
              "1          202         0       3             Sage, Mr. Frederick  male   NaN   \n",
              "2          203         0       3      Johanson, Mr. Jakob Alfred  male  34.0   \n",
              "3          204         0       3            Youseff, Mr. Gerious  male  45.5   \n",
              "4          205         1       3        Cohen, Mr. Gurshon \"Gus\"  male  18.0   \n",
              "\n",
              "   SibSp  Parch    Ticket     Fare Cabin Embarked  \n",
              "0      0      0    345770   9.5000   NaN        S  \n",
              "1      8      2  CA. 2343  69.5500   NaN        S  \n",
              "2      0      0   3101264   6.4958   NaN        S  \n",
              "3      0      0      2628   7.2250   NaN        C  \n",
              "4      0      0  A/5 3540   8.0500   NaN        S  "
            ]
          },
          "execution_count": 3,
          "metadata": {},
          "output_type": "execute_result"
        }
      ],
      "source": [
        "data2.head()"
      ]
    },
    {
      "cell_type": "markdown",
      "id": "ccceb411",
      "metadata": {
        "id": "ccceb411"
      },
      "source": [
        "## Combine All the Data"
      ]
    },
    {
      "cell_type": "code",
      "execution_count": null,
      "id": "ac1e0cb1",
      "metadata": {
        "id": "ac1e0cb1",
        "outputId": "e0eed871-f8bb-48ec-c430-de4ae30b29d5"
      },
      "outputs": [
        {
          "data": {
            "text/html": [
              "<div>\n",
              "<style scoped>\n",
              "    .dataframe tbody tr th:only-of-type {\n",
              "        vertical-align: middle;\n",
              "    }\n",
              "\n",
              "    .dataframe tbody tr th {\n",
              "        vertical-align: top;\n",
              "    }\n",
              "\n",
              "    .dataframe thead th {\n",
              "        text-align: right;\n",
              "    }\n",
              "</style>\n",
              "<table border=\"1\" class=\"dataframe\">\n",
              "  <thead>\n",
              "    <tr style=\"text-align: right;\">\n",
              "      <th></th>\n",
              "      <th>PassengerId</th>\n",
              "      <th>Survived</th>\n",
              "      <th>Pclass</th>\n",
              "      <th>Name</th>\n",
              "      <th>Sex</th>\n",
              "      <th>Age</th>\n",
              "      <th>SibSp</th>\n",
              "      <th>Parch</th>\n",
              "      <th>Ticket</th>\n",
              "      <th>Fare</th>\n",
              "      <th>Cabin</th>\n",
              "      <th>Embarked</th>\n",
              "    </tr>\n",
              "  </thead>\n",
              "  <tbody>\n",
              "    <tr>\n",
              "      <th>0</th>\n",
              "      <td>101</td>\n",
              "      <td>0</td>\n",
              "      <td>3</td>\n",
              "      <td>Petranec, Miss. Matilda</td>\n",
              "      <td>female</td>\n",
              "      <td>28.0</td>\n",
              "      <td>0</td>\n",
              "      <td>0</td>\n",
              "      <td>349245</td>\n",
              "      <td>7.8958</td>\n",
              "      <td>NaN</td>\n",
              "      <td>S</td>\n",
              "    </tr>\n",
              "    <tr>\n",
              "      <th>1</th>\n",
              "      <td>102</td>\n",
              "      <td>0</td>\n",
              "      <td>3</td>\n",
              "      <td>Petroff, Mr. Pastcho (\"Pentcho\")</td>\n",
              "      <td>male</td>\n",
              "      <td>NaN</td>\n",
              "      <td>0</td>\n",
              "      <td>0</td>\n",
              "      <td>349215</td>\n",
              "      <td>7.8958</td>\n",
              "      <td>NaN</td>\n",
              "      <td>S</td>\n",
              "    </tr>\n",
              "    <tr>\n",
              "      <th>2</th>\n",
              "      <td>103</td>\n",
              "      <td>0</td>\n",
              "      <td>1</td>\n",
              "      <td>White, Mr. Richard Frasar</td>\n",
              "      <td>male</td>\n",
              "      <td>21.0</td>\n",
              "      <td>0</td>\n",
              "      <td>1</td>\n",
              "      <td>35281</td>\n",
              "      <td>77.2875</td>\n",
              "      <td>D26</td>\n",
              "      <td>S</td>\n",
              "    </tr>\n",
              "    <tr>\n",
              "      <th>3</th>\n",
              "      <td>104</td>\n",
              "      <td>0</td>\n",
              "      <td>3</td>\n",
              "      <td>Johansson, Mr. Gustaf Joel</td>\n",
              "      <td>male</td>\n",
              "      <td>33.0</td>\n",
              "      <td>0</td>\n",
              "      <td>0</td>\n",
              "      <td>7540</td>\n",
              "      <td>8.6542</td>\n",
              "      <td>NaN</td>\n",
              "      <td>S</td>\n",
              "    </tr>\n",
              "    <tr>\n",
              "      <th>4</th>\n",
              "      <td>105</td>\n",
              "      <td>0</td>\n",
              "      <td>3</td>\n",
              "      <td>Gustafsson, Mr. Anders Vilhelm</td>\n",
              "      <td>male</td>\n",
              "      <td>37.0</td>\n",
              "      <td>2</td>\n",
              "      <td>0</td>\n",
              "      <td>3101276</td>\n",
              "      <td>7.9250</td>\n",
              "      <td>NaN</td>\n",
              "      <td>S</td>\n",
              "    </tr>\n",
              "  </tbody>\n",
              "</table>\n",
              "</div>"
            ],
            "text/plain": [
              "   PassengerId  Survived  Pclass                              Name     Sex  \\\n",
              "0          101         0       3           Petranec, Miss. Matilda  female   \n",
              "1          102         0       3  Petroff, Mr. Pastcho (\"Pentcho\")    male   \n",
              "2          103         0       1         White, Mr. Richard Frasar    male   \n",
              "3          104         0       3        Johansson, Mr. Gustaf Joel    male   \n",
              "4          105         0       3    Gustafsson, Mr. Anders Vilhelm    male   \n",
              "\n",
              "    Age  SibSp  Parch   Ticket     Fare Cabin Embarked  \n",
              "0  28.0      0      0   349245   7.8958   NaN        S  \n",
              "1   NaN      0      0   349215   7.8958   NaN        S  \n",
              "2  21.0      0      1    35281  77.2875   D26        S  \n",
              "3  33.0      0      0     7540   8.6542   NaN        S  \n",
              "4  37.0      2      0  3101276   7.9250   NaN        S  "
            ]
          },
          "execution_count": 4,
          "metadata": {},
          "output_type": "execute_result"
        }
      ],
      "source": [
        "Data = pd.concat([data1, data2, data3])\n",
        "Data.head()"
      ]
    },
    {
      "cell_type": "code",
      "execution_count": null,
      "id": "6de58dc0",
      "metadata": {
        "id": "6de58dc0",
        "outputId": "24521179-affe-480e-d306-bc978ceb0577"
      },
      "outputs": [
        {
          "data": {
            "text/plain": [
              "(300, 12)"
            ]
          },
          "execution_count": 6,
          "metadata": {},
          "output_type": "execute_result"
        }
      ],
      "source": [
        "Data.shape"
      ]
    },
    {
      "cell_type": "code",
      "execution_count": null,
      "id": "dc7f81be",
      "metadata": {
        "id": "dc7f81be",
        "outputId": "ca7b053e-6f10-4842-a1e7-f8dbbd4de680"
      },
      "outputs": [
        {
          "data": {
            "text/plain": [
              "PassengerId      int64\n",
              "Survived         int64\n",
              "Pclass           int64\n",
              "Name            object\n",
              "Sex             object\n",
              "Age            float64\n",
              "SibSp            int64\n",
              "Parch            int64\n",
              "Ticket          object\n",
              "Fare           float64\n",
              "Cabin           object\n",
              "Embarked        object\n",
              "dtype: object"
            ]
          },
          "execution_count": 7,
          "metadata": {},
          "output_type": "execute_result"
        }
      ],
      "source": [
        "Data.dtypes"
      ]
    },
    {
      "cell_type": "code",
      "execution_count": null,
      "id": "24a68d04",
      "metadata": {
        "id": "24a68d04",
        "outputId": "e6cf6d07-f8b2-4896-8ff0-b61a3c29e354"
      },
      "outputs": [
        {
          "data": {
            "text/html": [
              "<div>\n",
              "<style scoped>\n",
              "    .dataframe tbody tr th:only-of-type {\n",
              "        vertical-align: middle;\n",
              "    }\n",
              "\n",
              "    .dataframe tbody tr th {\n",
              "        vertical-align: top;\n",
              "    }\n",
              "\n",
              "    .dataframe thead th {\n",
              "        text-align: right;\n",
              "    }\n",
              "</style>\n",
              "<table border=\"1\" class=\"dataframe\">\n",
              "  <thead>\n",
              "    <tr style=\"text-align: right;\">\n",
              "      <th></th>\n",
              "      <th>PassengerId</th>\n",
              "      <th>Survived</th>\n",
              "      <th>Pclass</th>\n",
              "      <th>Age</th>\n",
              "      <th>SibSp</th>\n",
              "      <th>Parch</th>\n",
              "      <th>Fare</th>\n",
              "    </tr>\n",
              "  </thead>\n",
              "  <tbody>\n",
              "    <tr>\n",
              "      <th>count</th>\n",
              "      <td>300.000000</td>\n",
              "      <td>300.000000</td>\n",
              "      <td>300.000000</td>\n",
              "      <td>244.000000</td>\n",
              "      <td>300.000000</td>\n",
              "      <td>300.000000</td>\n",
              "      <td>300.000000</td>\n",
              "    </tr>\n",
              "    <tr>\n",
              "      <th>mean</th>\n",
              "      <td>250.500000</td>\n",
              "      <td>0.386667</td>\n",
              "      <td>2.303333</td>\n",
              "      <td>29.071393</td>\n",
              "      <td>0.553333</td>\n",
              "      <td>0.363333</td>\n",
              "      <td>34.483221</td>\n",
              "    </tr>\n",
              "    <tr>\n",
              "      <th>std</th>\n",
              "      <td>86.746758</td>\n",
              "      <td>0.487800</td>\n",
              "      <td>0.832847</td>\n",
              "      <td>13.886814</td>\n",
              "      <td>1.237846</td>\n",
              "      <td>0.711578</td>\n",
              "      <td>52.846651</td>\n",
              "    </tr>\n",
              "    <tr>\n",
              "      <th>min</th>\n",
              "      <td>101.000000</td>\n",
              "      <td>0.000000</td>\n",
              "      <td>1.000000</td>\n",
              "      <td>0.920000</td>\n",
              "      <td>0.000000</td>\n",
              "      <td>0.000000</td>\n",
              "      <td>0.000000</td>\n",
              "    </tr>\n",
              "    <tr>\n",
              "      <th>25%</th>\n",
              "      <td>175.750000</td>\n",
              "      <td>0.000000</td>\n",
              "      <td>2.000000</td>\n",
              "      <td>21.000000</td>\n",
              "      <td>0.000000</td>\n",
              "      <td>0.000000</td>\n",
              "      <td>7.895800</td>\n",
              "    </tr>\n",
              "    <tr>\n",
              "      <th>50%</th>\n",
              "      <td>250.500000</td>\n",
              "      <td>0.000000</td>\n",
              "      <td>3.000000</td>\n",
              "      <td>28.000000</td>\n",
              "      <td>0.000000</td>\n",
              "      <td>0.000000</td>\n",
              "      <td>14.454200</td>\n",
              "    </tr>\n",
              "    <tr>\n",
              "      <th>75%</th>\n",
              "      <td>325.250000</td>\n",
              "      <td>1.000000</td>\n",
              "      <td>3.000000</td>\n",
              "      <td>37.000000</td>\n",
              "      <td>1.000000</td>\n",
              "      <td>0.000000</td>\n",
              "      <td>31.000000</td>\n",
              "    </tr>\n",
              "    <tr>\n",
              "      <th>max</th>\n",
              "      <td>400.000000</td>\n",
              "      <td>1.000000</td>\n",
              "      <td>3.000000</td>\n",
              "      <td>70.500000</td>\n",
              "      <td>8.000000</td>\n",
              "      <td>4.000000</td>\n",
              "      <td>512.329200</td>\n",
              "    </tr>\n",
              "  </tbody>\n",
              "</table>\n",
              "</div>"
            ],
            "text/plain": [
              "       PassengerId    Survived      Pclass         Age       SibSp  \\\n",
              "count   300.000000  300.000000  300.000000  244.000000  300.000000   \n",
              "mean    250.500000    0.386667    2.303333   29.071393    0.553333   \n",
              "std      86.746758    0.487800    0.832847   13.886814    1.237846   \n",
              "min     101.000000    0.000000    1.000000    0.920000    0.000000   \n",
              "25%     175.750000    0.000000    2.000000   21.000000    0.000000   \n",
              "50%     250.500000    0.000000    3.000000   28.000000    0.000000   \n",
              "75%     325.250000    1.000000    3.000000   37.000000    1.000000   \n",
              "max     400.000000    1.000000    3.000000   70.500000    8.000000   \n",
              "\n",
              "            Parch        Fare  \n",
              "count  300.000000  300.000000  \n",
              "mean     0.363333   34.483221  \n",
              "std      0.711578   52.846651  \n",
              "min      0.000000    0.000000  \n",
              "25%      0.000000    7.895800  \n",
              "50%      0.000000   14.454200  \n",
              "75%      0.000000   31.000000  \n",
              "max      4.000000  512.329200  "
            ]
          },
          "execution_count": 8,
          "metadata": {},
          "output_type": "execute_result"
        }
      ],
      "source": [
        "Data.describe()"
      ]
    },
    {
      "cell_type": "code",
      "execution_count": null,
      "id": "ab5fb009",
      "metadata": {
        "id": "ab5fb009"
      },
      "outputs": [],
      "source": [
        "# Upload Final Concatenated File of 3 Files\n",
        "Data.to_csv(\"Data.csv\", index=False)"
      ]
    },
    {
      "cell_type": "code",
      "execution_count": null,
      "id": "0798e9f0",
      "metadata": {
        "id": "0798e9f0"
      },
      "outputs": [],
      "source": [
        "S3.Bucket(bucket).upload_file( \"Data.csv\" , \"ConcatenatedTitanic.csv\")"
      ]
    },
    {
      "cell_type": "markdown",
      "id": "34e79c75",
      "metadata": {
        "id": "34e79c75"
      },
      "source": [
        "## SageMaker for Machine Learning"
      ]
    },
    {
      "cell_type": "code",
      "execution_count": null,
      "id": "c0ba36bb",
      "metadata": {
        "id": "c0ba36bb"
      },
      "outputs": [],
      "source": [
        "import sagemaker\n",
        "from sagemaker.tuner import ( IntegerParameter, CategoricalParameter, ContinuousParameter, HyperparameterTuner,)\n",
        "region = boto3.Session().region_name\n",
        "smclient = boto3.Session().client(\"sagemaker\")\n",
        "\n",
        "role = sagemaker.get_execution_role()\n",
        "prefix = 'sagemaker'"
      ]
    },
    {
      "cell_type": "markdown",
      "id": "8d8674b6",
      "metadata": {
        "id": "8d8674b6"
      },
      "source": [
        "## Read Dataset again from S3 Bucket"
      ]
    },
    {
      "cell_type": "code",
      "execution_count": null,
      "id": "79330d8c",
      "metadata": {
        "id": "79330d8c",
        "outputId": "160385f0-1907-4b0a-d18b-9b53c1029629"
      },
      "outputs": [
        {
          "data": {
            "text/html": [
              "<div>\n",
              "<style scoped>\n",
              "    .dataframe tbody tr th:only-of-type {\n",
              "        vertical-align: middle;\n",
              "    }\n",
              "\n",
              "    .dataframe tbody tr th {\n",
              "        vertical-align: top;\n",
              "    }\n",
              "\n",
              "    .dataframe thead th {\n",
              "        text-align: right;\n",
              "    }\n",
              "</style>\n",
              "<table border=\"1\" class=\"dataframe\">\n",
              "  <thead>\n",
              "    <tr style=\"text-align: right;\">\n",
              "      <th></th>\n",
              "      <th>PassengerId</th>\n",
              "      <th>Survived</th>\n",
              "      <th>Pclass</th>\n",
              "      <th>Name</th>\n",
              "      <th>Sex</th>\n",
              "      <th>Age</th>\n",
              "      <th>SibSp</th>\n",
              "      <th>Parch</th>\n",
              "      <th>Ticket</th>\n",
              "      <th>Fare</th>\n",
              "      <th>Cabin</th>\n",
              "      <th>Embarked</th>\n",
              "    </tr>\n",
              "  </thead>\n",
              "  <tbody>\n",
              "    <tr>\n",
              "      <th>0</th>\n",
              "      <td>101</td>\n",
              "      <td>0</td>\n",
              "      <td>3</td>\n",
              "      <td>Petranec, Miss. Matilda</td>\n",
              "      <td>female</td>\n",
              "      <td>28.0</td>\n",
              "      <td>0</td>\n",
              "      <td>0</td>\n",
              "      <td>349245</td>\n",
              "      <td>7.8958</td>\n",
              "      <td>NaN</td>\n",
              "      <td>S</td>\n",
              "    </tr>\n",
              "    <tr>\n",
              "      <th>1</th>\n",
              "      <td>102</td>\n",
              "      <td>0</td>\n",
              "      <td>3</td>\n",
              "      <td>Petroff, Mr. Pastcho (\"Pentcho\")</td>\n",
              "      <td>male</td>\n",
              "      <td>NaN</td>\n",
              "      <td>0</td>\n",
              "      <td>0</td>\n",
              "      <td>349215</td>\n",
              "      <td>7.8958</td>\n",
              "      <td>NaN</td>\n",
              "      <td>S</td>\n",
              "    </tr>\n",
              "    <tr>\n",
              "      <th>2</th>\n",
              "      <td>103</td>\n",
              "      <td>0</td>\n",
              "      <td>1</td>\n",
              "      <td>White, Mr. Richard Frasar</td>\n",
              "      <td>male</td>\n",
              "      <td>21.0</td>\n",
              "      <td>0</td>\n",
              "      <td>1</td>\n",
              "      <td>35281</td>\n",
              "      <td>77.2875</td>\n",
              "      <td>D26</td>\n",
              "      <td>S</td>\n",
              "    </tr>\n",
              "    <tr>\n",
              "      <th>3</th>\n",
              "      <td>104</td>\n",
              "      <td>0</td>\n",
              "      <td>3</td>\n",
              "      <td>Johansson, Mr. Gustaf Joel</td>\n",
              "      <td>male</td>\n",
              "      <td>33.0</td>\n",
              "      <td>0</td>\n",
              "      <td>0</td>\n",
              "      <td>7540</td>\n",
              "      <td>8.6542</td>\n",
              "      <td>NaN</td>\n",
              "      <td>S</td>\n",
              "    </tr>\n",
              "    <tr>\n",
              "      <th>4</th>\n",
              "      <td>105</td>\n",
              "      <td>0</td>\n",
              "      <td>3</td>\n",
              "      <td>Gustafsson, Mr. Anders Vilhelm</td>\n",
              "      <td>male</td>\n",
              "      <td>37.0</td>\n",
              "      <td>2</td>\n",
              "      <td>0</td>\n",
              "      <td>3101276</td>\n",
              "      <td>7.9250</td>\n",
              "      <td>NaN</td>\n",
              "      <td>S</td>\n",
              "    </tr>\n",
              "  </tbody>\n",
              "</table>\n",
              "</div>"
            ],
            "text/plain": [
              "   PassengerId  Survived  Pclass                              Name     Sex  \\\n",
              "0          101         0       3           Petranec, Miss. Matilda  female   \n",
              "1          102         0       3  Petroff, Mr. Pastcho (\"Pentcho\")    male   \n",
              "2          103         0       1         White, Mr. Richard Frasar    male   \n",
              "3          104         0       3        Johansson, Mr. Gustaf Joel    male   \n",
              "4          105         0       3    Gustafsson, Mr. Anders Vilhelm    male   \n",
              "\n",
              "    Age  SibSp  Parch   Ticket     Fare Cabin Embarked  \n",
              "0  28.0      0      0   349245   7.8958   NaN        S  \n",
              "1   NaN      0      0   349215   7.8958   NaN        S  \n",
              "2  21.0      0      1    35281  77.2875   D26        S  \n",
              "3  33.0      0      0     7540   8.6542   NaN        S  \n",
              "4  37.0      2      0  3101276   7.9250   NaN        S  "
            ]
          },
          "execution_count": 12,
          "metadata": {},
          "output_type": "execute_result"
        }
      ],
      "source": [
        "# Importing data from S3\n",
        "Imported_Data = pd.read_csv(S3.Object(bucket, \"ConcatenatedTitanic.csv\").get()[\"Body\"], index_col=False)\n",
        "Imported_Data.head()"
      ]
    },
    {
      "cell_type": "markdown",
      "id": "6189f817",
      "metadata": {
        "id": "6189f817"
      },
      "source": [
        "## Data Cleaning"
      ]
    },
    {
      "cell_type": "code",
      "execution_count": null,
      "id": "0c7644f7",
      "metadata": {
        "id": "0c7644f7",
        "outputId": "3c55f71b-b5b6-46ec-8b39-41ddb8eaa5ed"
      },
      "outputs": [
        {
          "data": {
            "text/html": [
              "<div>\n",
              "<style scoped>\n",
              "    .dataframe tbody tr th:only-of-type {\n",
              "        vertical-align: middle;\n",
              "    }\n",
              "\n",
              "    .dataframe tbody tr th {\n",
              "        vertical-align: top;\n",
              "    }\n",
              "\n",
              "    .dataframe thead th {\n",
              "        text-align: right;\n",
              "    }\n",
              "</style>\n",
              "<table border=\"1\" class=\"dataframe\">\n",
              "  <thead>\n",
              "    <tr style=\"text-align: right;\">\n",
              "      <th></th>\n",
              "      <th>PassengerId</th>\n",
              "      <th>Survived</th>\n",
              "      <th>Pclass</th>\n",
              "      <th>Sex</th>\n",
              "      <th>Age</th>\n",
              "      <th>SibSp</th>\n",
              "      <th>Parch</th>\n",
              "      <th>Fare</th>\n",
              "      <th>Embarked</th>\n",
              "    </tr>\n",
              "  </thead>\n",
              "  <tbody>\n",
              "    <tr>\n",
              "      <th>0</th>\n",
              "      <td>101</td>\n",
              "      <td>0</td>\n",
              "      <td>3</td>\n",
              "      <td>female</td>\n",
              "      <td>28.0</td>\n",
              "      <td>0</td>\n",
              "      <td>0</td>\n",
              "      <td>7.8958</td>\n",
              "      <td>S</td>\n",
              "    </tr>\n",
              "    <tr>\n",
              "      <th>1</th>\n",
              "      <td>102</td>\n",
              "      <td>0</td>\n",
              "      <td>3</td>\n",
              "      <td>male</td>\n",
              "      <td>24.5</td>\n",
              "      <td>0</td>\n",
              "      <td>0</td>\n",
              "      <td>7.8958</td>\n",
              "      <td>S</td>\n",
              "    </tr>\n",
              "    <tr>\n",
              "      <th>2</th>\n",
              "      <td>103</td>\n",
              "      <td>0</td>\n",
              "      <td>1</td>\n",
              "      <td>male</td>\n",
              "      <td>21.0</td>\n",
              "      <td>0</td>\n",
              "      <td>1</td>\n",
              "      <td>77.2875</td>\n",
              "      <td>S</td>\n",
              "    </tr>\n",
              "    <tr>\n",
              "      <th>3</th>\n",
              "      <td>104</td>\n",
              "      <td>0</td>\n",
              "      <td>3</td>\n",
              "      <td>male</td>\n",
              "      <td>33.0</td>\n",
              "      <td>0</td>\n",
              "      <td>0</td>\n",
              "      <td>8.6542</td>\n",
              "      <td>S</td>\n",
              "    </tr>\n",
              "    <tr>\n",
              "      <th>4</th>\n",
              "      <td>105</td>\n",
              "      <td>0</td>\n",
              "      <td>3</td>\n",
              "      <td>male</td>\n",
              "      <td>37.0</td>\n",
              "      <td>2</td>\n",
              "      <td>0</td>\n",
              "      <td>7.9250</td>\n",
              "      <td>S</td>\n",
              "    </tr>\n",
              "  </tbody>\n",
              "</table>\n",
              "</div>"
            ],
            "text/plain": [
              "   PassengerId  Survived  Pclass     Sex   Age  SibSp  Parch     Fare Embarked\n",
              "0          101         0       3  female  28.0      0      0   7.8958        S\n",
              "1          102         0       3    male  24.5      0      0   7.8958        S\n",
              "2          103         0       1    male  21.0      0      1  77.2875        S\n",
              "3          104         0       3    male  33.0      0      0   8.6542        S\n",
              "4          105         0       3    male  37.0      2      0   7.9250        S"
            ]
          },
          "execution_count": 13,
          "metadata": {},
          "output_type": "execute_result"
        }
      ],
      "source": [
        "# Drop Not required Cols\n",
        "cols = ['Name', 'Ticket', 'Cabin']\n",
        "Imported_Data = Imported_Data.drop(cols, axis=1)\n",
        "\n",
        "# Take care of Missing Data\n",
        "Imported_Data['Age'] = Imported_Data['Age'].interpolate()\n",
        "\n",
        "Imported_Data.head()"
      ]
    },
    {
      "cell_type": "markdown",
      "id": "94a0c423",
      "metadata": {
        "id": "94a0c423"
      },
      "source": [
        "## Split Dataset in Train, Test & Validation"
      ]
    },
    {
      "cell_type": "code",
      "execution_count": null,
      "id": "eadbf94c",
      "metadata": {
        "id": "eadbf94c"
      },
      "outputs": [],
      "source": [
        "train_data, validation_data, test_data = np.split(Imported_Data.sample(frac=1, random_state=777),[int(0.7 * len(Imported_Data)), int(0.9 * len(Imported_Data))])"
      ]
    },
    {
      "cell_type": "markdown",
      "id": "500e4518",
      "metadata": {
        "id": "500e4518"
      },
      "source": [
        "## Upload Split datasets to S3 Bucket"
      ]
    },
    {
      "cell_type": "code",
      "execution_count": null,
      "id": "f9ad4c68",
      "metadata": {
        "id": "f9ad4c68"
      },
      "outputs": [],
      "source": [
        "train_data.to_csv(\"train.csv\", index=False, header=False)\n",
        "validation_data.to_csv(\"validation.csv\", index=False, header=False)\n",
        "test_data.to_csv(\"test.csv\", index=False, header=False)"
      ]
    },
    {
      "cell_type": "code",
      "execution_count": null,
      "id": "daa23951",
      "metadata": {
        "id": "daa23951"
      },
      "outputs": [],
      "source": [
        "boto3.Session().resource(\"s3\").Bucket(bucket).Object(os.path.join(prefix, \"train/train.csv\")).upload_file(\"train.csv\")\n",
        "boto3.Session().resource(\"s3\").Bucket(bucket).Object(os.path.join(prefix, \"validation/validation.csv\")).upload_file(\"validation.csv\")"
      ]
    },
    {
      "cell_type": "markdown",
      "id": "c07e00c8",
      "metadata": {
        "id": "c07e00c8"
      },
      "source": [
        "## Creating Input for SageMaker"
      ]
    },
    {
      "cell_type": "code",
      "execution_count": null,
      "id": "67177a0a",
      "metadata": {
        "id": "67177a0a"
      },
      "outputs": [],
      "source": [
        "from sagemaker.inputs import TrainingInput\n",
        "s3_input_train = TrainingInput(\n",
        "    s3_data=\"s3://{}/{}/train\".format(bucket, prefix), content_type=\"csv\"\n",
        ")\n",
        "s3_input_validation = TrainingInput(\n",
        "    s3_data=\"s3://{}/{}/validation\".format(bucket, prefix), content_type=\"csv\"\n",
        ")"
      ]
    },
    {
      "cell_type": "markdown",
      "id": "13a1424f",
      "metadata": {
        "id": "13a1424f"
      },
      "source": [
        "## Hyperparameter Tuning "
      ]
    },
    {
      "cell_type": "code",
      "execution_count": null,
      "id": "d8d87d39",
      "metadata": {
        "id": "d8d87d39"
      },
      "outputs": [],
      "source": [
        "from sagemaker.amazon.amazon_estimator import get_image_uri\n",
        "from sagemaker.image_uris import retrieve\n",
        "\n",
        "sess = sagemaker.Session()\n",
        "\n",
        "container = retrieve(\"xgboost\", region, \"latest\")\n",
        "\n",
        "xgb = sagemaker.estimator.Estimator(\n",
        "    container,\n",
        "    role,\n",
        "    base_job_name=\"xgboost-random-search\",\n",
        "    instance_count=1,\n",
        "    instance_type=\"ml.m4.xlarge\",\n",
        "    output_path=\"s3://{}/{}/output\".format(bucket, prefix),\n",
        "    sagemaker_session=sess,\n",
        ")\n",
        "\n",
        "xgb.set_hyperparameters(\n",
        "    eval_metric=\"auc\",\n",
        "    objective=\"binary:logistic\",\n",
        "    num_round=10,\n",
        "    rate_drop=0.3,\n",
        "    tweedie_variance_power=1.4,\n",
        ")\n",
        "objective_metric_name = \"validation:auc\""
      ]
    },
    {
      "cell_type": "markdown",
      "id": "f9aafa3c",
      "metadata": {
        "id": "f9aafa3c"
      },
      "source": [
        "###  Logarithmic Scaling Random Search"
      ]
    },
    {
      "cell_type": "code",
      "execution_count": null,
      "id": "f6f1cb2a",
      "metadata": {
        "id": "f6f1cb2a"
      },
      "outputs": [],
      "source": [
        "hyperparameter_ranges = {\n",
        "    \"alpha\": ContinuousParameter(0.01, 10, scaling_type=\"Logarithmic\"),\n",
        "    \"lambda\": ContinuousParameter(0.01, 10, scaling_type=\"Logarithmic\"),\n",
        "}"
      ]
    },
    {
      "cell_type": "code",
      "execution_count": null,
      "id": "ca309f1d",
      "metadata": {
        "id": "ca309f1d",
        "outputId": "42147e9c-565e-42da-97e8-93881085b60d"
      },
      "outputs": [
        {
          "name": "stdout",
          "output_type": "stream",
          "text": [
            "......................................................!\n"
          ]
        }
      ],
      "source": [
        "tuner_log = HyperparameterTuner(\n",
        "    xgb,\n",
        "    objective_metric_name,\n",
        "    hyperparameter_ranges,\n",
        "    max_jobs=5,\n",
        "    max_parallel_jobs=5,\n",
        "    strategy=\"Random\",\n",
        ")\n",
        "\n",
        "tuner_log.fit(\n",
        "    {\"train\": s3_input_train, \"validation\": s3_input_validation},\n",
        "    include_cls_metadata=False,\n",
        "    job_name=\"xgb-randsearch-\" + strftime(\"%Y%m%d-%H-%M-%S\", gmtime()),\n",
        ")"
      ]
    },
    {
      "cell_type": "code",
      "execution_count": null,
      "id": "205076e6",
      "metadata": {
        "id": "205076e6",
        "outputId": "8ceb42c6-26c1-4636-97a3-2a21b1985a8d"
      },
      "outputs": [
        {
          "data": {
            "text/plain": [
              "'Completed'"
            ]
          },
          "execution_count": 25,
          "metadata": {},
          "output_type": "execute_result"
        }
      ],
      "source": [
        "boto3.client(\"sagemaker\").describe_hyper_parameter_tuning_job(\n",
        "    HyperParameterTuningJobName=tuner_log.latest_tuning_job.job_name\n",
        ")[\"HyperParameterTuningJobStatus\"]"
      ]
    },
    {
      "cell_type": "markdown",
      "id": "f5b300cc",
      "metadata": {
        "id": "f5b300cc"
      },
      "source": [
        "### Linear Scaling Random Search"
      ]
    },
    {
      "cell_type": "code",
      "execution_count": null,
      "id": "b8b323ec",
      "metadata": {
        "id": "b8b323ec"
      },
      "outputs": [],
      "source": [
        "hyperparameter_ranges_linear = {\n",
        "    \"alpha\": ContinuousParameter(0.01, 10, scaling_type=\"Linear\"),\n",
        "    \"lambda\": ContinuousParameter(0.01, 10, scaling_type=\"Linear\"),\n",
        "}"
      ]
    },
    {
      "cell_type": "code",
      "execution_count": null,
      "id": "07feac7b",
      "metadata": {
        "id": "07feac7b",
        "outputId": "944c9ce6-1c85-4854-a493-07aed616918b"
      },
      "outputs": [
        {
          "name": "stdout",
          "output_type": "stream",
          "text": [
            "...............................................................!\n"
          ]
        }
      ],
      "source": [
        "tuner_linear = HyperparameterTuner(\n",
        "    xgb,\n",
        "    objective_metric_name,\n",
        "    hyperparameter_ranges_linear,\n",
        "    max_jobs=5,\n",
        "    max_parallel_jobs=5,\n",
        "    strategy=\"Random\",\n",
        ")\n",
        "\n",
        "tuner_linear.fit(\n",
        "    {\"train\": s3_input_train, \"validation\": s3_input_validation},\n",
        "    include_cls_metadata=False,\n",
        "    job_name=\"xgb-linsearch-\" + strftime(\"%Y%m%d-%H-%M-%S\", gmtime()),\n",
        ")"
      ]
    },
    {
      "cell_type": "code",
      "execution_count": null,
      "id": "623026ac",
      "metadata": {
        "id": "623026ac",
        "outputId": "8c7277d7-c6a0-40b4-a43d-93656e498b24"
      },
      "outputs": [
        {
          "data": {
            "text/plain": [
              "'Completed'"
            ]
          },
          "execution_count": 27,
          "metadata": {},
          "output_type": "execute_result"
        }
      ],
      "source": [
        "boto3.client(\"sagemaker\").describe_hyper_parameter_tuning_job(\n",
        "    HyperParameterTuningJobName=tuner_linear.latest_tuning_job.job_name\n",
        ")[\"HyperParameterTuningJobStatus\"]"
      ]
    }
  ],
  "metadata": {
    "colab": {
      "name": "AWS_Assignment 2_ML.ipynb",
      "provenance": []
    },
    "kernelspec": {
      "display_name": "conda_python3",
      "language": "python",
      "name": "conda_python3"
    },
    "language_info": {
      "codemirror_mode": {
        "name": "ipython",
        "version": 3
      },
      "file_extension": ".py",
      "mimetype": "text/x-python",
      "name": "python",
      "nbconvert_exporter": "python",
      "pygments_lexer": "ipython3",
      "version": "3.6.13"
    }
  },
  "nbformat": 4,
  "nbformat_minor": 5
}