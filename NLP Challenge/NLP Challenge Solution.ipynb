{
  "nbformat": 4,
  "nbformat_minor": 0,
  "metadata": {
    "colab": {
      "name": "Challenege_NLP.ipynb",
      "provenance": []
    },
    "kernelspec": {
      "name": "python3",
      "display_name": "Python 3"
    },
    "language_info": {
      "name": "python"
    }
  },
  "cells": [
    {
      "cell_type": "markdown",
      "source": [
        "# **Accepting a file name from command line & storing the data**\n"
      ],
      "metadata": {
        "id": "kVQWag_28AGS"
      }
    },
    {
      "cell_type": "code",
      "source": [
        "File = input(\"Enter File Name: \")"
      ],
      "metadata": {
        "colab": {
          "base_uri": "https://localhost:8080/"
        },
        "id": "QF7BoiFB8LhX",
        "outputId": "12ea70fb-5e8f-4267-9107-8edaf52305c9"
      },
      "execution_count": 19,
      "outputs": [
        {
          "name": "stdout",
          "output_type": "stream",
          "text": [
            "Enter File Name: testFile2.txt\n"
          ]
        }
      ]
    },
    {
      "cell_type": "code",
      "source": [
        "F = open(File, \"r\")\n",
        "data = F.read()\n",
        "print(data)"
      ],
      "metadata": {
        "colab": {
          "base_uri": "https://localhost:8080/"
        },
        "id": "1SppNqkgAdUq",
        "outputId": "762db388-1a39-4824-9981-16689f66d6bd"
      },
      "execution_count": 20,
      "outputs": [
        {
          "output_type": "stream",
          "name": "stdout",
          "text": [
            "﻿¥900 $100 ₹800 £900.2\n",
            "\n",
            "\n",
            "01/19/2012  20/02/19  11/19/19 \n",
            "\n",
            "\n",
            "¥100.0 ₹9210 $99.99\n",
            "\n",
            "\n",
            "My name is aeio and uiea is my brother, ears, indy, \n",
            "oracle\n",
            "\n",
            "\n",
            "12/01/2018  03/15/1971\n",
            "\n",
            "\n",
            "401st, fourhundredfirst, \n",
            "101st, onehundredfirst,\n",
            "910th, ninehundredtenth,\n",
            "12th, twelfth\n"
          ]
        }
      ]
    },
    {
      "cell_type": "markdown",
      "source": [
        "# **CLEANING THE DATA**"
      ],
      "metadata": {
        "id": "9p4SikU8A8eT"
      }
    },
    {
      "cell_type": "code",
      "source": [
        "# Remove Commas and New lines, so as to clean the data.... More things can also be added in this cleaning part too. \n",
        "def rem_newline_comma(data):\n",
        "  data = data.replace(\",\",\" \") # replacing the commas with a space\n",
        "  data = data.replace(\"\\n\",\" \") # replace new lines with a space\n",
        "  return data\n",
        "\n",
        "data = rem_newline_comma(data)\n",
        "print(data)"
      ],
      "metadata": {
        "colab": {
          "base_uri": "https://localhost:8080/"
        },
        "id": "aZWjt-3kApgU",
        "outputId": "f13975e8-b27b-48d6-b449-ba7a2839c3f1"
      },
      "execution_count": 21,
      "outputs": [
        {
          "output_type": "stream",
          "name": "stdout",
          "text": [
            "﻿¥900 $100 ₹800 £900.2   01/19/2012  20/02/19  11/19/19    ¥100.0 ₹9210 $99.99   My name is aeio and uiea is my brother  ears  indy   oracle   12/01/2018  03/15/1971   401st  fourhundredfirst   101st  onehundredfirst  910th  ninehundredtenth  12th  twelfth\n"
          ]
        }
      ]
    },
    {
      "cell_type": "markdown",
      "source": [
        "# **Importing Libraries for the excercise**"
      ],
      "metadata": {
        "id": "equacyS8CoFg"
      }
    },
    {
      "cell_type": "code",
      "source": [
        "import re"
      ],
      "metadata": {
        "id": "01vmCIsXCVVJ"
      },
      "execution_count": 22,
      "outputs": []
    },
    {
      "cell_type": "markdown",
      "source": [
        "# **QUESTION - Print all currencies in text, Accepted- $, ₹, £**"
      ],
      "metadata": {
        "id": "gNmYRbRTCy6I"
      }
    },
    {
      "cell_type": "code",
      "source": [
        "# We need to find currencies in text and only the ones with $, ₹, £ as there start nothing else... \n",
        "# Now some of them may have decimal and digit after decimal as well hence following must take care of it. \n",
        "Accepted_Currency = re.findall(r'[\\$₹£]\\d+\\.?\\d*', data)\n",
        "print(Accepted_Currency)"
      ],
      "metadata": {
        "colab": {
          "base_uri": "https://localhost:8080/"
        },
        "id": "ZFTpQj0HCxrQ",
        "outputId": "df069cf9-81c0-432b-9fb2-cfdece811b80"
      },
      "execution_count": 23,
      "outputs": [
        {
          "output_type": "stream",
          "name": "stdout",
          "text": [
            "['$100', '₹800', '£900.2', '₹9210', '$99.99']\n"
          ]
        }
      ]
    },
    {
      "cell_type": "markdown",
      "source": [
        "# **QUESTION - Print all date times in the text- dd/mm/yyyy, dd/mm/yy, mm/dd/yyyy, mm/dd/yy**"
      ],
      "metadata": {
        "id": "pHw94bgOD_Ad"
      }
    },
    {
      "cell_type": "code",
      "source": [
        "# Some very basic conditions for day, month are different like it cant be 0, days cant be beyond 31, month cant be beyond 12\n",
        "# And for 4 digit year also taking a condition that first digit has to be either 1 or 2.\n",
        "\n",
        "# DD/MM/YYYY \n",
        "ddmmyyyy = re.findall(r'\\b((0[1-9]|[12][0-9]|3[01])(/)(0[1-9]|1[012])(/)([1-2][0-9]{3}))\\b', data)\n",
        "for date in ddmmyyyy:\n",
        "  print(date[0])\n",
        "print(\"------------------------\")\n",
        "# DD/MM/YY \n",
        "ddmmyy = re.findall(r'\\b((0[1-9]|[12][0-9]|3[01])(/)(0[1-9]|1[012])(/)([0-9]{2}))\\b', data)\n",
        "for date in ddmmyy:\n",
        "  print(date[0])\n",
        "print(\"------------------------\")\n",
        "# MM/DD/YYYY \n",
        "mmddyyyy = re.findall(r'\\b((0[1-9]|1[012])(/)(0[1-9]|[12][0-9]|3[01])(/)([1-2][0-9]{3}))\\b', data)\n",
        "for date in mmddyyyy:\n",
        "  print(date[0])\n",
        "print(\"------------------------\")\n",
        "# MM/DD/YY \n",
        "mmddyy = re.findall(r'\\b((0[1-9]|1[012])(/)(0[1-9]|[12][0-9]|3[01])(/)([0-9]{2}))\\b', data)\n",
        "for date in mmddyy:\n",
        "  print(date[0])"
      ],
      "metadata": {
        "colab": {
          "base_uri": "https://localhost:8080/"
        },
        "id": "zOglAGseD1au",
        "outputId": "53e08e74-61b0-4913-922f-33e84b19e328"
      },
      "execution_count": 24,
      "outputs": [
        {
          "output_type": "stream",
          "name": "stdout",
          "text": [
            "12/01/2018\n",
            "------------------------\n",
            "20/02/19\n",
            "------------------------\n",
            "01/19/2012\n",
            "12/01/2018\n",
            "03/15/1971\n",
            "------------------------\n",
            "11/19/19\n"
          ]
        }
      ]
    },
    {
      "cell_type": "markdown",
      "source": [
        "# **QUESTION - Print all cardinilities and orders- 4th, fifth, sixth, 1st, 2nd, nineteenth, fifth**"
      ],
      "metadata": {
        "id": "80bd_j9OHT9C"
      }
    },
    {
      "cell_type": "code",
      "source": [
        "# There are two seprate things \n",
        "# 1. with numbers at start we can just check with the start as number also take care that in between we allow 0-9 and end as \"st\", \"nd\", \"rd\", \"th\" and we are good to go.\n",
        "# For eg. 1st, 4th\n",
        "# Also keeping in mind that we are not searching for substring of the word but the whole. \n",
        "# 2. with words we have to check for first, second, third, four, fif, .... in start and end with \"st\", \"nd\", \"rd\", \"th\" and its all good. \n",
        "# And there is one more case we have to one, two, three at start too because in case of 101 -> onehundredfirst and 401 is taken care of as -> fourhundredfirst\n",
        "# for eg. fourtyfifth has four at start and th at end\n",
        "\n",
        "# First we take numbers: \n",
        "nums = re.findall(r'\\b(([1-9][0-9]*)(st|nd|rd|th))\\b',data)\n",
        "for x in nums:\n",
        "  print(x[0], end=\" \")\n",
        "\n",
        "print()\n",
        "print()\n",
        "\n",
        "print(\"------------TEXT---------------\")\n",
        "\n",
        "print()\n",
        "\n",
        "text = re.findall(r'\\b((first|second|third)|(four[a-z]*|fif[a-z]*|six[a-z]*|seven[a-z]*|eight[a-z]*|nin[a-z]*|ten[a-z]*|eleven[a-z]*|twel[a-z]*|thirteen[a-z]*|twenty[a-z]*|thirty[a-z]*|one[a-z]*|two[a-z]*|three[a-z]*)(st|nd|rd|th))\\b', data, re.IGNORECASE)\n",
        "for x in text:\n",
        "  print(x[0], end=\" \")\n",
        "\n",
        "# The full that we are checking for.. \n",
        "# \\b((first|second|third)|(four[a-z]*|fif[a-z]*|six[a-z]*|seven[a-z]*|eight[a-z]*\n",
        "# |nin[a-z]*|ten[a-z]*|eleven[a-z]*|twel[a-z]*|thirteen[a-z]*|twenty[a-z]*|thirty[a-z]*\n",
        "# |one[a-z]*|two[a-z]*|three[a-z]*)(st|nd|rd|th))\\b"
      ],
      "metadata": {
        "colab": {
          "base_uri": "https://localhost:8080/"
        },
        "id": "Xn5NfLFSFrZp",
        "outputId": "fdffec71-2faa-48f0-f6f6-9c307dbe6af4"
      },
      "execution_count": 30,
      "outputs": [
        {
          "output_type": "stream",
          "name": "stdout",
          "text": [
            "401st 101st 910th 12th \n",
            "\n",
            "------------TEXT---------------\n",
            "\n",
            "fourhundredfirst onehundredfirst ninehundredtenth twelfth "
          ]
        }
      ]
    },
    {
      "cell_type": "markdown",
      "source": [
        "# **QUESTION - Print all 4 letter words that begin with vowels**"
      ],
      "metadata": {
        "id": "wqqFOy76PBUg"
      }
    },
    {
      "cell_type": "code",
      "source": [
        "fourletter_vowelword = re.findall(r'\\b[aeiouAEIOU][a-zA-Z]{3}\\b', data)\n",
        "print(fourletter_vowelword)"
      ],
      "metadata": {
        "colab": {
          "base_uri": "https://localhost:8080/"
        },
        "id": "OcLSO2pANDSq",
        "outputId": "a8d2c0b9-3844-4cae-9769-2f8a4613ad54"
      },
      "execution_count": 26,
      "outputs": [
        {
          "output_type": "stream",
          "name": "stdout",
          "text": [
            "['aeio', 'uiea', 'ears', 'indy']\n"
          ]
        }
      ]
    }
  ]
}